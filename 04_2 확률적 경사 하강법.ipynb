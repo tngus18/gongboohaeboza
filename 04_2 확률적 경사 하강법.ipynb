{
 "cells": [
  {
   "cell_type": "markdown",
   "id": "dc7808ec",
   "metadata": {},
   "source": [
    "SGDClassifier"
   ]
  },
  {
   "cell_type": "code",
   "execution_count": 29,
   "id": "04229912",
   "metadata": {
    "ExecuteTime": {
     "end_time": "2022-12-16T01:11:45.625642Z",
     "start_time": "2022-12-16T01:11:45.055742Z"
    }
   },
   "outputs": [],
   "source": [
    "import pandas as pd\n",
    "fish = pd.read_csv('http://bit.ly/fish_csv')\n",
    "\n",
    "fish_input = fish[['Weight','Length','Diagonal','Height','Width']].to_numpy()\n",
    "fish_target = fish['Species'].to_numpy()"
   ]
  },
  {
   "cell_type": "code",
   "execution_count": 30,
   "id": "e73761a6",
   "metadata": {
    "ExecuteTime": {
     "end_time": "2022-12-16T01:11:45.700047Z",
     "start_time": "2022-12-16T01:11:45.685998Z"
    }
   },
   "outputs": [],
   "source": [
    "from sklearn.model_selection import train_test_split\n",
    "train_input,  test_input, train_target,test_target = train_test_split(fish_input, fish_target, random_state = 42)"
   ]
  },
  {
   "cell_type": "code",
   "execution_count": 31,
   "id": "acc1bb40",
   "metadata": {
    "ExecuteTime": {
     "end_time": "2022-12-16T01:11:45.789207Z",
     "start_time": "2022-12-16T01:11:45.770467Z"
    }
   },
   "outputs": [],
   "source": [
    "from sklearn.preprocessing import StandardScaler\n",
    "ss = StandardScaler()\n",
    "ss.fit(train_input)\n",
    "train_scaled = ss.transform(train_input)\n",
    "test_scaled = ss.transform(test_input)"
   ]
  },
  {
   "cell_type": "code",
   "execution_count": 32,
   "id": "a55217d9",
   "metadata": {
    "ExecuteTime": {
     "end_time": "2022-12-16T01:11:45.868314Z",
     "start_time": "2022-12-16T01:11:45.852406Z"
    }
   },
   "outputs": [],
   "source": [
    "from sklearn.linear_model import SGDClassifier"
   ]
  },
  {
   "cell_type": "markdown",
   "id": "ae56fe05",
   "metadata": {},
   "source": [
    "- loss는 손실함수의 종류 지정 ex.loss='log'=> 로지스틱 손실 함수 지정. max_iter는 수행할 에포크 횟수 지정"
   ]
  },
  {
   "cell_type": "code",
   "execution_count": 33,
   "id": "f09f68fa",
   "metadata": {
    "ExecuteTime": {
     "end_time": "2022-12-16T01:11:46.234883Z",
     "start_time": "2022-12-16T01:11:46.204125Z"
    }
   },
   "outputs": [
    {
     "name": "stdout",
     "output_type": "stream",
     "text": [
      "0.773109243697479\n",
      "0.775\n"
     ]
    },
    {
     "name": "stderr",
     "output_type": "stream",
     "text": [
      "C:\\Users\\user\\anaconda3\\envs\\ml\\lib\\site-packages\\sklearn\\linear_model\\_stochastic_gradient.py:704: ConvergenceWarning: Maximum number of iteration reached before convergence. Consider increasing max_iter to improve the fit.\n",
      "  warnings.warn(\n"
     ]
    }
   ],
   "source": [
    "sc = SGDClassifier(loss='log_loss', max_iter = 10,random_state =42)\n",
    "sc.fit(train_scaled,train_target)\n",
    "print(sc.score(train_scaled,train_target))\n",
    "print(sc.score(test_scaled,test_target))"
   ]
  },
  {
   "cell_type": "code",
   "execution_count": 34,
   "id": "899ee3f7",
   "metadata": {
    "ExecuteTime": {
     "end_time": "2022-12-16T01:11:47.418011Z",
     "start_time": "2022-12-16T01:11:47.401014Z"
    }
   },
   "outputs": [
    {
     "name": "stdout",
     "output_type": "stream",
     "text": [
      "0.8151260504201681\n",
      "0.85\n"
     ]
    }
   ],
   "source": [
    "sc.partial_fit(train_scaled, train_target)\n",
    "print(sc.score(train_scaled,train_target))\n",
    "print(sc.score(test_scaled,test_target))"
   ]
  },
  {
   "cell_type": "code",
   "execution_count": 37,
   "id": "ad9e9d56",
   "metadata": {
    "ExecuteTime": {
     "end_time": "2022-12-16T01:12:55.367256Z",
     "start_time": "2022-12-16T01:12:55.357335Z"
    }
   },
   "outputs": [],
   "source": [
    "import numpy as np\n",
    "sc = SGDClassifier(loss='log_loss', random_state = 42)\n",
    "train_score = []\n",
    "test_score = []\n",
    "classes = np.unique(train_target)"
   ]
  },
  {
   "cell_type": "code",
   "execution_count": 38,
   "id": "d21bcd48",
   "metadata": {
    "ExecuteTime": {
     "end_time": "2022-12-16T01:12:56.502968Z",
     "start_time": "2022-12-16T01:12:55.620045Z"
    }
   },
   "outputs": [],
   "source": [
    "for _ in range(0,300):\n",
    "    sc.partial_fit(train_scaled, train_target, classes = classes)\n",
    "    train_score.append(sc.score(train_scaled, train_target))\n",
    "    test_score.append(sc.score(test_scaled, test_target))"
   ]
  },
  {
   "cell_type": "code",
   "execution_count": 39,
   "id": "af335739",
   "metadata": {
    "ExecuteTime": {
     "end_time": "2022-12-16T01:13:59.032391Z",
     "start_time": "2022-12-16T01:13:58.346964Z"
    }
   },
   "outputs": [
    {
     "data": {
      "image/png": "[encoded data removed]",
      "text/plain": [
       "<Figure size 800x700 with 1 Axes>"
      ]
     },
     "metadata": {},
     "output_type": "display_data"
    }
   ],
   "source": [
    "import matplotlib.pyplot as plt\n",
    "plt.plot(train_score)\n",
    "plt.plot(test_score)\n",
    "plt.show()"
   ]
  },
  {
   "cell_type": "code",
   "execution_count": 40,
   "id": "abf9f8b8",
   "metadata": {
    "ExecuteTime": {
     "end_time": "2022-12-16T01:15:15.098728Z",
     "start_time": "2022-12-16T01:15:15.078903Z"
    }
   },
   "outputs": [
    {
     "name": "stdout",
     "output_type": "stream",
     "text": [
      "0.957983193277311\n",
      "0.925\n"
     ]
    }
   ],
   "source": [
    "sc = SGDClassifier(loss='log_loss', max_iter = 100, tol = None, random_state =42)\n",
    "sc.fit(train_scaled,train_target)\n",
    "print(sc.score(train_scaled,train_target))\n",
    "print(sc.score(test_scaled,test_target))"
   ]
  },
  {
   "cell_type": "markdown",
   "id": "834bd7b5",
   "metadata": {},
   "source": [
    "- loss의 매개변수의 기본값은 hinge \n",
    "hinge : 서포트 벡터 머신이라 불리는 또 다른 머신러닝 알고리즘을 위한 손실 함수."
   ]
  },
  {
   "cell_type": "code",
   "execution_count": 42,
   "id": "dfc484b8",
   "metadata": {
    "ExecuteTime": {
     "end_time": "2022-12-16T01:17:36.293640Z",
     "start_time": "2022-12-16T01:17:36.266589Z"
    }
   },
   "outputs": [
    {
     "name": "stdout",
     "output_type": "stream",
     "text": [
      "0.9495798319327731\n",
      "0.925\n"
     ]
    }
   ],
   "source": [
    "sc = SGDClassifier(loss='hinge', max_iter = 100, tol = None, random_state =42)\n",
    "sc.fit(train_scaled,train_target)\n",
    "print(sc.score(train_scaled,train_target))\n",
    "print(sc.score(test_scaled,test_target))"
   ]
  },
  {
   "cell_type": "code",
   "execution_count": null,
   "id": "51a35bae",
   "metadata": {},
   "outputs": [],
   "source": []
  }
 ],
 "metadata": {
  "kernelspec": {
   "display_name": "Python 3 (ipykernel)",
   "language": "python",
   "name": "python3"
  },
  "language_info": {
   "codemirror_mode": {
    "name": "ipython",
    "version": 3
   },
   "file_extension": ".py",
   "mimetype": "text/x-python",
   "name": "python",
   "nbconvert_exporter": "python",
   "pygments_lexer": "ipython3",
   "version": "3.9.15"
  },
  "toc": {
   "base_numbering": 1,
   "nav_menu": {},
   "number_sections": true,
   "sideBar": true,
   "skip_h1_title": false,
   "title_cell": "Table of Contents",
   "title_sidebar": "Contents",
   "toc_cell": false,
   "toc_position": {},
   "toc_section_display": true,
   "toc_window_display": false
  },
  "varInspector": {
   "cols": {
    "lenName": 16,
    "lenType": 16,
    "lenVar": 40
   },
   "kernels_config": {
    "python": {
     "delete_cmd_postfix": "",
     "delete_cmd_prefix": "del ",
     "library": "var_list.py",
     "varRefreshCmd": "print(var_dic_list())"
    },
    "r": {
     "delete_cmd_postfix": ") ",
     "delete_cmd_prefix": "rm(",
     "library": "var_list.r",
     "varRefreshCmd": "cat(var_dic_list()) "
    }
   },
   "types_to_exclude": [
    "module",
    "function",
    "builtin_function_or_method",
    "instance",
    "_Feature"
   ],
   "window_display": false
  }
 },
 "nbformat": 4,
 "nbformat_minor": 5
}
