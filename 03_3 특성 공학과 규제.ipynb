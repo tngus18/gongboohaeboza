{
 "cells": [
  {
   "cell_type": "markdown",
   "id": "712fe544",
   "metadata": {
    "ExecuteTime": {
     "end_time": "2022-12-15T05:37:43.713290Z",
     "start_time": "2022-12-15T05:37:43.698818Z"
    }
   },
   "source": [
    "**과대적합**"
   ]
  },
  {
   "cell_type": "code",
   "execution_count": 1,
   "id": "b28f902f",
   "metadata": {
    "ExecuteTime": {
     "end_time": "2022-12-15T05:09:35.314167Z",
     "start_time": "2022-12-15T05:09:33.704139Z"
    },
    "scrolled": true
   },
   "outputs": [
    {
     "name": "stdout",
     "output_type": "stream",
     "text": [
      "[[ 8.4   2.11  1.41]\n",
      " [13.7   3.53  2.  ]\n",
      " [15.    3.82  2.43]\n",
      " [16.2   4.59  2.63]\n",
      " [17.4   4.59  2.94]\n",
      " [18.    5.22  3.32]\n",
      " [18.7   5.2   3.12]\n",
      " [19.    5.64  3.05]\n",
      " [19.6   5.14  3.04]\n",
      " [20.    5.08  2.77]\n",
      " [21.    5.69  3.56]\n",
      " [21.    5.92  3.31]\n",
      " [21.    5.69  3.67]\n",
      " [21.3   6.38  3.53]\n",
      " [22.    6.11  3.41]\n",
      " [22.    5.64  3.52]\n",
      " [22.    6.11  3.52]\n",
      " [22.    5.88  3.52]\n",
      " [22.    5.52  4.  ]\n",
      " [22.5   5.86  3.62]\n",
      " [22.5   6.79  3.62]\n",
      " [22.7   5.95  3.63]\n",
      " [23.    5.22  3.63]\n",
      " [23.5   6.28  3.72]\n",
      " [24.    7.29  3.72]\n",
      " [24.    6.38  3.82]\n",
      " [24.6   6.73  4.17]\n",
      " [25.    6.44  3.68]\n",
      " [25.6   6.56  4.24]\n",
      " [26.5   7.17  4.14]\n",
      " [27.3   8.32  5.14]\n",
      " [27.5   7.17  4.34]\n",
      " [27.5   7.05  4.34]\n",
      " [27.5   7.28  4.57]\n",
      " [28.    7.82  4.2 ]\n",
      " [28.7   7.59  4.64]\n",
      " [30.    7.62  4.77]\n",
      " [32.8  10.03  6.02]\n",
      " [34.5  10.26  6.39]\n",
      " [35.   11.49  7.8 ]\n",
      " [36.5  10.88  6.86]\n",
      " [36.   10.61  6.74]\n",
      " [37.   10.84  6.26]\n",
      " [37.   10.57  6.37]\n",
      " [39.   11.14  7.49]\n",
      " [39.   11.14  6.  ]\n",
      " [39.   12.43  7.35]\n",
      " [40.   11.93  7.11]\n",
      " [40.   11.73  7.22]\n",
      " [40.   12.38  7.46]\n",
      " [40.   11.14  6.63]\n",
      " [42.   12.8   6.87]\n",
      " [43.   11.93  7.28]\n",
      " [43.   12.51  7.42]\n",
      " [43.5  12.6   8.14]\n",
      " [44.   12.49  7.6 ]]\n"
     ]
    }
   ],
   "source": [
    "import pandas as pd\n",
    "df = pd.read_csv('https://bit.ly/perch_csv')\n",
    "perch_full = df.to_numpy()\n",
    "print(perch_full)"
   ]
  },
  {
   "cell_type": "code",
   "execution_count": 21,
   "id": "715ddc8b",
   "metadata": {
    "ExecuteTime": {
     "end_time": "2022-12-15T05:31:21.325636Z",
     "start_time": "2022-12-15T05:31:21.307749Z"
    }
   },
   "outputs": [],
   "source": [
    "import numpy as np\n",
    "perch_weight = np.array([5.9, 32.0, 40.0, 51.5, 70.0, 100.0, 78.0, 80.0, 85.0, 85.0, 110.0,\n",
    "       115.0, 125.0, 130.0, 120.0, 120.0, 130.0, 135.0, 110.0, 130.0,\n",
    "       150.0, 145.0, 150.0, 170.0, 225.0, 145.0, 188.0, 180.0, 197.0,\n",
    "       218.0, 300.0, 260.0, 265.0, 250.0, 250.0, 300.0, 320.0, 514.0,\n",
    "       556.0, 840.0, 685.0, 700.0, 700.0, 690.0, 900.0, 650.0, 820.0,\n",
    "       850.0, 900.0, 1015.0, 820.0, 1100.0, 1000.0, 1100.0, 1000.0,\n",
    "       1000.0])"
   ]
  },
  {
   "cell_type": "code",
   "execution_count": 23,
   "id": "cd6da078",
   "metadata": {
    "ExecuteTime": {
     "end_time": "2022-12-15T05:31:43.186830Z",
     "start_time": "2022-12-15T05:31:43.177257Z"
    }
   },
   "outputs": [],
   "source": [
    "from sklearn.model_selection import train_test_split\n",
    "\n",
    "train_input, test_input, train_target, test_target = train_test_split(perch_full,perch_weight, random_state = 42)\n"
   ]
  },
  {
   "cell_type": "markdown",
   "id": "c4157fcf",
   "metadata": {},
   "source": [
    "사이킷런의 변환기(Transformer) : 다양한 클래스 제공.\n",
    "fit(), transform()메서드 제공"
   ]
  },
  {
   "cell_type": "code",
   "execution_count": 24,
   "id": "8555e595",
   "metadata": {
    "ExecuteTime": {
     "end_time": "2022-12-15T05:31:43.724438Z",
     "start_time": "2022-12-15T05:31:43.719526Z"
    }
   },
   "outputs": [],
   "source": [
    "from sklearn.preprocessing import PolynomialFeatures"
   ]
  },
  {
   "cell_type": "code",
   "execution_count": 25,
   "id": "0e74d9d1",
   "metadata": {
    "ExecuteTime": {
     "end_time": "2022-12-15T05:31:43.957782Z",
     "start_time": "2022-12-15T05:31:43.938260Z"
    }
   },
   "outputs": [
    {
     "name": "stdout",
     "output_type": "stream",
     "text": [
      "[[1. 2. 3. 4. 6. 9.]]\n"
     ]
    }
   ],
   "source": [
    "poly = PolynomialFeatures()\n",
    "poly.fit([[2,3]])\n",
    "print(poly.transform([[2,3]]))"
   ]
  },
  {
   "cell_type": "code",
   "execution_count": 26,
   "id": "53ddecd4",
   "metadata": {
    "ExecuteTime": {
     "end_time": "2022-12-15T05:31:44.114383Z",
     "start_time": "2022-12-15T05:31:44.106151Z"
    }
   },
   "outputs": [
    {
     "name": "stdout",
     "output_type": "stream",
     "text": [
      "[[2. 3. 4. 6. 9.]]\n"
     ]
    }
   ],
   "source": [
    "poly = PolynomialFeatures(include_bias=False)\n",
    "poly.fit([[2,3]])\n",
    "print(poly.transform([[2,3]]))"
   ]
  },
  {
   "cell_type": "code",
   "execution_count": 27,
   "id": "ae270793",
   "metadata": {
    "ExecuteTime": {
     "end_time": "2022-12-15T05:31:44.363628Z",
     "start_time": "2022-12-15T05:31:44.345559Z"
    }
   },
   "outputs": [
    {
     "name": "stdout",
     "output_type": "stream",
     "text": [
      "(42, 9)\n"
     ]
    }
   ],
   "source": [
    "poly = PolynomialFeatures(include_bias=False)\n",
    "poly.fit(train_input)\n",
    "train_poly = poly.transform(train_input)\n",
    "print(train_poly.shape)"
   ]
  },
  {
   "cell_type": "code",
   "execution_count": 29,
   "id": "a526a250",
   "metadata": {
    "ExecuteTime": {
     "end_time": "2022-12-15T05:32:45.099615Z",
     "start_time": "2022-12-15T05:32:45.076777Z"
    }
   },
   "outputs": [
    {
     "data": {
      "text/plain": [
       "array(['x0', 'x1', 'x2', 'x0^2', 'x0 x1', 'x0 x2', 'x1^2', 'x1 x2',\n",
       "       'x2^2'], dtype=object)"
      ]
     },
     "execution_count": 29,
     "metadata": {},
     "output_type": "execute_result"
    }
   ],
   "source": [
    "poly.get_feature_names_out()"
   ]
  },
  {
   "cell_type": "code",
   "execution_count": 30,
   "id": "1cd8c6d8",
   "metadata": {
    "ExecuteTime": {
     "end_time": "2022-12-15T05:33:12.366034Z",
     "start_time": "2022-12-15T05:33:12.347972Z"
    }
   },
   "outputs": [],
   "source": [
    "test_poly = poly.transform(test_input)"
   ]
  },
  {
   "cell_type": "code",
   "execution_count": 32,
   "id": "34534adc",
   "metadata": {
    "ExecuteTime": {
     "end_time": "2022-12-15T05:34:20.350249Z",
     "start_time": "2022-12-15T05:34:20.336584Z"
    }
   },
   "outputs": [
    {
     "name": "stdout",
     "output_type": "stream",
     "text": [
      "0.9903183436982124\n"
     ]
    }
   ],
   "source": [
    "from sklearn.linear_model import LinearRegression\n",
    "lr = LinearRegression()\n",
    "lr.fit(train_poly,train_target)\n",
    "print(lr.score(train_poly,train_target))"
   ]
  },
  {
   "cell_type": "code",
   "execution_count": 34,
   "id": "dfdc0c44",
   "metadata": {
    "ExecuteTime": {
     "end_time": "2022-12-15T05:35:58.737204Z",
     "start_time": "2022-12-15T05:35:58.720759Z"
    }
   },
   "outputs": [
    {
     "name": "stdout",
     "output_type": "stream",
     "text": [
      "(42, 55)\n"
     ]
    }
   ],
   "source": [
    "poly = PolynomialFeatures(degree=5, include_bias=False)\n",
    "poly.fit(train_input)\n",
    "train_poly = poly.transform(train_input)\n",
    "test_poly = poly.transform(test_input)\n",
    "print(train_poly.shape)"
   ]
  },
  {
   "cell_type": "code",
   "execution_count": 35,
   "id": "71be0a27",
   "metadata": {
    "ExecuteTime": {
     "end_time": "2022-12-15T05:36:19.186235Z",
     "start_time": "2022-12-15T05:36:19.171922Z"
    }
   },
   "outputs": [
    {
     "name": "stdout",
     "output_type": "stream",
     "text": [
      "0.9999999999996176\n"
     ]
    }
   ],
   "source": [
    "lr.fit(train_poly,train_target)\n",
    "print(lr.score(train_poly,train_target))"
   ]
  },
  {
   "cell_type": "code",
   "execution_count": 36,
   "id": "9974b8a6",
   "metadata": {
    "ExecuteTime": {
     "end_time": "2022-12-15T05:36:37.581480Z",
     "start_time": "2022-12-15T05:36:37.553679Z"
    }
   },
   "outputs": [
    {
     "name": "stdout",
     "output_type": "stream",
     "text": [
      "-144.40585108215134\n"
     ]
    }
   ],
   "source": [
    "print(lr.score(test_poly,test_target))"
   ]
  },
  {
   "cell_type": "markdown",
   "id": "e5221f01",
   "metadata": {},
   "source": [
    "=> 특성의 개수를 늘리면 선형모델 (train)은 강력해지며 거의 완벽하게 학습할 수 있으나. 훈련세트에 너무 과적합되므로 테스트세트에서는 형편없는 점수를 만들 수 있음."
   ]
  },
  {
   "cell_type": "markdown",
   "id": "c45c2e40",
   "metadata": {},
   "source": [
    "StandardScalar"
   ]
  },
  {
   "cell_type": "code",
   "execution_count": 38,
   "id": "a4ac7d38",
   "metadata": {
    "ExecuteTime": {
     "end_time": "2022-12-15T05:40:00.874299Z",
     "start_time": "2022-12-15T05:40:00.856648Z"
    }
   },
   "outputs": [],
   "source": [
    "from sklearn.preprocessing import StandardScaler\n",
    "ss = StandardScaler()\n",
    "ss.fit(train_poly)\n",
    "train_scaled = ss.transform(train_poly)\n",
    "test_scaled = ss.transform(test_poly)"
   ]
  },
  {
   "cell_type": "markdown",
   "id": "3e731a03",
   "metadata": {},
   "source": [
    "릿지 회귀"
   ]
  },
  {
   "cell_type": "code",
   "execution_count": 39,
   "id": "5c0baa1f",
   "metadata": {
    "ExecuteTime": {
     "end_time": "2022-12-15T05:42:31.254668Z",
     "start_time": "2022-12-15T05:42:31.229475Z"
    }
   },
   "outputs": [
    {
     "name": "stdout",
     "output_type": "stream",
     "text": [
      "0.9896101671037343\n"
     ]
    }
   ],
   "source": [
    "from sklearn.linear_model import Ridge\n",
    "ridge = Ridge()\n",
    "ridge.fit(train_scaled, train_target)\n",
    "print(ridge.score(train_scaled, train_target))"
   ]
  },
  {
   "cell_type": "code",
   "execution_count": 40,
   "id": "806ed8de",
   "metadata": {
    "ExecuteTime": {
     "end_time": "2022-12-15T05:43:01.640277Z",
     "start_time": "2022-12-15T05:43:01.631422Z"
    },
    "scrolled": true
   },
   "outputs": [
    {
     "name": "stdout",
     "output_type": "stream",
     "text": [
      "0.9790693977615383\n"
     ]
    }
   ],
   "source": [
    "print(ridge.score(test_scaled, test_target))"
   ]
  },
  {
   "cell_type": "markdown",
   "id": "a8f07220",
   "metadata": {},
   "source": [
    "ridge와 lasso모델을 사용하면 규제의 양을 임의로 조정할 수 있음.\n",
    "- alpha매개변수로 규제의 강도를 조절\n",
    "    - alpha 값이 크면 규제강도가 세지므로 계수값을 더 줄이고,\n",
    "    - alpha 값이 작으면 계수를 줄이는 역할이 줄어들고 선형 회귀모델과 유사해지므로 과대적합될 가능성 높아짐."
   ]
  },
  {
   "cell_type": "code",
   "execution_count": 41,
   "id": "bedef748",
   "metadata": {
    "ExecuteTime": {
     "end_time": "2022-12-15T06:08:52.162063Z",
     "start_time": "2022-12-15T06:08:51.476199Z"
    }
   },
   "outputs": [],
   "source": [
    "import matplotlib.pyplot as plt\n",
    "train_score = []\n",
    "test_score = []\n",
    "\n",
    "alpha_list = [0.001, 0.01, 0.1, 1, 10,100]\n",
    "for alpha in alpha_list:\n",
    "    ridge = Ridge(alpha=alpha)\n",
    "    ridge.fit(train_scaled, train_target)\n",
    "    train_score.append(ridge.score(train_scaled,train_target))\n",
    "    test_score.append(ridge.score(test_scaled,test_target))    "
   ]
  },
  {
   "cell_type": "code",
   "execution_count": 42,
   "id": "f246244f",
   "metadata": {
    "ExecuteTime": {
     "end_time": "2022-12-15T06:09:44.042375Z",
     "start_time": "2022-12-15T06:09:43.682970Z"
    },
    "scrolled": true
   },
   "outputs": [
    {
     "data": {
      "image/png": "[encoded data removed]",
      "text/plain": [
       "<Figure size 800x700 with 1 Axes>"
      ]
     },
     "metadata": {},
     "output_type": "display_data"
    }
   ],
   "source": [
    "plt.plot(np.log10(alpha_list),train_score)\n",
    "plt.plot(np.log10(alpha_list), test_score)\n",
    "plt.show()"
   ]
  },
  {
   "cell_type": "code",
   "execution_count": 44,
   "id": "c4429071",
   "metadata": {
    "ExecuteTime": {
     "end_time": "2022-12-15T06:11:36.613191Z",
     "start_time": "2022-12-15T06:11:36.602120Z"
    }
   },
   "outputs": [
    {
     "name": "stdout",
     "output_type": "stream",
     "text": [
      "0.9903815817570366\n",
      "0.9827976465386937\n"
     ]
    }
   ],
   "source": [
    "ridge = Ridge(alpha = 0.1)\n",
    "ridge.fit(train_scaled,train_target)\n",
    "print(ridge.score(train_scaled,train_target))\n",
    "print(ridge.score(test_scaled,test_target))"
   ]
  },
  {
   "cell_type": "markdown",
   "id": "159bdf3d",
   "metadata": {},
   "source": [
    "Lasso 회귀"
   ]
  },
  {
   "cell_type": "code",
   "execution_count": 45,
   "id": "5e9493a4",
   "metadata": {
    "ExecuteTime": {
     "end_time": "2022-12-15T06:15:28.824087Z",
     "start_time": "2022-12-15T06:15:28.801380Z"
    }
   },
   "outputs": [
    {
     "name": "stdout",
     "output_type": "stream",
     "text": [
      "0.989789897208096\n"
     ]
    }
   ],
   "source": [
    "from sklearn.linear_model import Lasso\n",
    "lasso = Lasso()\n",
    "lasso.fit(train_scaled, train_target)\n",
    "print(lasso.score(train_scaled, train_target))"
   ]
  },
  {
   "cell_type": "code",
   "execution_count": 46,
   "id": "2eadf012",
   "metadata": {
    "ExecuteTime": {
     "end_time": "2022-12-15T06:15:49.855803Z",
     "start_time": "2022-12-15T06:15:49.841614Z"
    }
   },
   "outputs": [
    {
     "name": "stdout",
     "output_type": "stream",
     "text": [
      "0.9800593698421884\n"
     ]
    }
   ],
   "source": [
    "print(lasso.score(test_scaled,test_target))"
   ]
  },
  {
   "cell_type": "code",
   "execution_count": 49,
   "id": "f14d8f95",
   "metadata": {
    "ExecuteTime": {
     "end_time": "2022-12-15T06:22:11.922602Z",
     "start_time": "2022-12-15T06:22:11.723042Z"
    }
   },
   "outputs": [
    {
     "name": "stderr",
     "output_type": "stream",
     "text": [
      "C:\\Users\\user\\anaconda3\\envs\\ml\\lib\\site-packages\\sklearn\\linear_model\\_coordinate_descent.py:634: ConvergenceWarning: Objective did not converge. You might want to increase the number of iterations, check the scale of the features or consider increasing regularisation. Duality gap: 1.878e+04, tolerance: 5.183e+02\n",
      "  model = cd_fast.enet_coordinate_descent(\n",
      "C:\\Users\\user\\anaconda3\\envs\\ml\\lib\\site-packages\\sklearn\\linear_model\\_coordinate_descent.py:634: ConvergenceWarning: Objective did not converge. You might want to increase the number of iterations, check the scale of the features or consider increasing regularisation. Duality gap: 1.297e+04, tolerance: 5.183e+02\n",
      "  model = cd_fast.enet_coordinate_descent(\n"
     ]
    }
   ],
   "source": [
    "train_score = []\n",
    "test_score = []\n",
    "alpha_list = [0.001, 0.01, 0.1, 1, 10, 100]\n",
    "for alpha in alpha_list:\n",
    "    lasso = Lasso(alpha = alpha, max_iter = 10000)\n",
    "    lasso.fit(train_scaled, train_target)\n",
    "    train_score.append(lasso.score(train_scaled, train_target))\n",
    "    test_score.append(lasso.score(test_scaled, test_target))"
   ]
  },
  {
   "cell_type": "markdown",
   "id": "2f3b588d",
   "metadata": {},
   "source": [
    "위에 error 가 뜨는 이유는 최적의 계수를 찾기 위해 반복적인 계산을 수행하는데, 지정한 반복 횟수가 부족할 때 이런 경고가 발생. 이 반복 횟수를 충분히 늘리기 위해 max_iter 매개변수의 값을 10000으로 지정함."
   ]
  },
  {
   "cell_type": "code",
   "execution_count": 50,
   "id": "8ee5f101",
   "metadata": {
    "ExecuteTime": {
     "end_time": "2022-12-15T06:23:57.321249Z",
     "start_time": "2022-12-15T06:23:56.935549Z"
    }
   },
   "outputs": [
    {
     "data": {
      "image/png": "[encoded data removed]",
      "text/plain": [
       "<Figure size 800x700 with 1 Axes>"
      ]
     },
     "metadata": {},
     "output_type": "display_data"
    }
   ],
   "source": [
    "plt.plot(np.log10(alpha_list),train_score)\n",
    "plt.plot(np.log10(alpha_list), test_score)\n",
    "plt.show()"
   ]
  },
  {
   "cell_type": "markdown",
   "id": "8e17c1d5",
   "metadata": {},
   "source": [
    "왼쪽은 과대적합, 오른쪽으로 갈수록 훈련세트와 테스트세트 점수의 차가 좁아짐. \n",
    "파랑:훈련세트 / 당근:테스트세트\n",
    "따라서 최적의 alpha값은 1"
   ]
  },
  {
   "cell_type": "code",
   "execution_count": 51,
   "id": "da683569",
   "metadata": {
    "ExecuteTime": {
     "end_time": "2022-12-15T06:25:59.540239Z",
     "start_time": "2022-12-15T06:25:59.524994Z"
    }
   },
   "outputs": [
    {
     "name": "stdout",
     "output_type": "stream",
     "text": [
      "0.9888067471131867\n",
      "0.9824470598706695\n"
     ]
    }
   ],
   "source": [
    "lasso = Lasso(alpha=10)\n",
    "lasso.fit(train_scaled, train_target)\n",
    "print(lasso.score(train_scaled, train_target))\n",
    "print(lasso.score(test_scaled, test_target))"
   ]
  },
  {
   "cell_type": "code",
   "execution_count": 52,
   "id": "394e452f",
   "metadata": {
    "ExecuteTime": {
     "end_time": "2022-12-15T06:26:26.016516Z",
     "start_time": "2022-12-15T06:26:25.996940Z"
    }
   },
   "outputs": [
    {
     "name": "stdout",
     "output_type": "stream",
     "text": [
      "40\n"
     ]
    }
   ],
   "source": [
    "print(np.sum(lasso.coef_ == 0))"
   ]
  },
  {
   "cell_type": "markdown",
   "id": "2ad81b6a",
   "metadata": {},
   "source": [
    "- np.sum()함수는 배열을 모두 더한 값을 반환한다. 넘파이 배열에 비교 연산자를 사용했을 때 각 원소는 True 또는 False가 된다. np.sum()함수는 True = 1, False = 0으로 인식하여 덧셈을 할 수 있기 때문에 마치 비교 연산자에 맞는 원소 개수를 헤아리는 효과를 냄."
   ]
  }
 ],
 "metadata": {
  "kernelspec": {
   "display_name": "Python 3 (ipykernel)",
   "language": "python",
   "name": "python3"
  },
  "language_info": {
   "codemirror_mode": {
    "name": "ipython",
    "version": 3
   },
   "file_extension": ".py",
   "mimetype": "text/x-python",
   "name": "python",
   "nbconvert_exporter": "python",
   "pygments_lexer": "ipython3",
   "version": "3.9.15"
  },
  "toc": {
   "base_numbering": 1,
   "nav_menu": {},
   "number_sections": true,
   "sideBar": true,
   "skip_h1_title": false,
   "title_cell": "Table of Contents",
   "title_sidebar": "Contents",
   "toc_cell": false,
   "toc_position": {},
   "toc_section_display": true,
   "toc_window_display": false
  },
  "varInspector": {
   "cols": {
    "lenName": 16,
    "lenType": 16,
    "lenVar": 40
   },
   "kernels_config": {
    "python": {
     "delete_cmd_postfix": "",
     "delete_cmd_prefix": "del ",
     "library": "var_list.py",
     "varRefreshCmd": "print(var_dic_list())"
    },
    "r": {
     "delete_cmd_postfix": ") ",
     "delete_cmd_prefix": "rm(",
     "library": "var_list.r",
     "varRefreshCmd": "cat(var_dic_list()) "
    }
   },
   "types_to_exclude": [
    "module",
    "function",
    "builtin_function_or_method",
    "instance",
    "_Feature"
   ],
   "window_display": false
  }
 },
 "nbformat": 4,
 "nbformat_minor": 5
}
