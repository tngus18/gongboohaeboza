{
  "nbformat": 4,
  "nbformat_minor": 0,
  "metadata": {
    "colab": {
      "provenance": [],
      "authorship_tag": "ABX9TyMIL54q1nRfM+SCGmjaLvAt",
      "include_colab_link": true
    },
    "kernelspec": {
      "name": "python3",
      "display_name": "Python 3"
    },
    "language_info": {
      "name": "python"
    }
  },
  "cells": [
    {
      "cell_type": "markdown",
      "metadata": {
        "id": "view-in-github",
        "colab_type": "text"
      },
      "source": [
        "<a href=\"https://colab.research.google.com/github/tngus18/gongboohaeboza/blob/main/%ED%8C%8C%EC%9D%B4%EC%8D%AC_%EB%A8%B8%EC%8B%A0%EB%9F%AC%EB%8B%9D_%EC%99%84%EB%B2%BD_%EA%B0%80%EC%9D%B4%EB%93%9C_01_%ED%8C%8C%EC%9D%B4%EC%8D%AC_%EA%B8%B0%EB%B0%98%EC%9D%98_%EB%A8%B8%EC%8B%A0%EB%9F%AC%EB%8B%9D%EA%B3%BC_%EC%83%9D%ED%83%9C%EA%B3%84%EC%9D%B4%ED%95%B4.ipynb\" target=\"_parent\"><img src=\"https://colab.research.google.com/assets/colab-badge.svg\" alt=\"Open In Colab\"/></a>"
      ]
    },
    {
      "cell_type": "markdown",
      "source": [
        "#파이썬과 R기반의 머신러닝 비교\n",
        "- R은 통계전용 프로그램 언어\n",
        "- 파이썬은 다양한 영역에서 사용되는 개발 전문 프로그램 언어"
      ],
      "metadata": {
        "id": "E4SGlJhn95LU"
      }
    },
    {
      "cell_type": "markdown",
      "source": [
        "## 파이썬 머신러닝 생태계를 구성하는 주요 패키지\n",
        "- 머신러닝 패키지 : 사이킷런(대표), 데이터 마이닝 기반의 머신러닝에서 독보적\n",
        "- 행렬/선형대수/통계패키지 : 넘파이(행렬, 선형대수), 싸이파이(자연과학 통계를 위한 다양한 패키지)\n",
        "- 데이터 핸들링 : 판다스(데이터 처리 패키지), 2차원 데이터 처리에 특화\n",
        "- 시각화 : 맷플롯립, 시본\n"
      ],
      "metadata": {
        "id": "r1FtK1ay-tP-"
      }
    },
    {
      "cell_type": "markdown",
      "source": [
        "## 넘파이"
      ],
      "metadata": {
        "id": "Iaw_XX8uiNkv"
      }
    },
    {
      "cell_type": "code",
      "execution_count": 1,
      "metadata": {
        "id": "eOKI6bVu8mYR"
      },
      "outputs": [],
      "source": [
        "# np.array"
      ]
    },
    {
      "cell_type": "code",
      "source": [
        "import numpy as np"
      ],
      "metadata": {
        "id": "F8dIxAUI8pvc"
      },
      "execution_count": 2,
      "outputs": []
    },
    {
      "cell_type": "code",
      "source": [
        "array1 = np.array([1,2,3])\n",
        "print('array1 type:', type(array1))\n",
        "print('array1 array 형태:', array1.shape)\n",
        "\n",
        "array2 = np.array([[1,2,3],\n",
        "                  [4,5,6]])\n",
        "print('array2 type:', type(array2))\n",
        "print('array2 array 형태:', array2.shape)\n",
        "\n",
        "array3 = np.array([[1,2,3]])\n",
        "print('array3 type:', type(array3))\n",
        "print('array3 array 형태:', array3.shape)\n",
        "\n",
        "#array1(3,) : 1차원 3원소\n",
        "#array2(2,3) : 2차원 2개 줄(로우) 3원소(칼럼)\n",
        "#array3(1,3) : 2차원 1개 줄 3원소"
      ],
      "metadata": {
        "colab": {
          "base_uri": "https://localhost:8080/"
        },
        "id": "Lo8tG2AVHPv9",
        "outputId": "5f606bc9-8357-4e81-c0f0-076fe376f72b"
      },
      "execution_count": 7,
      "outputs": [
        {
          "output_type": "stream",
          "name": "stdout",
          "text": [
            "array1 type: <class 'numpy.ndarray'>\n",
            "array1 array 형태: (3,)\n",
            "array2 type: <class 'numpy.ndarray'>\n",
            "array2 array 형태: (2, 3)\n",
            "array3 type: <class 'numpy.ndarray'>\n",
            "array3 array 형태: (1, 3)\n"
          ]
        }
      ]
    },
    {
      "cell_type": "code",
      "source": [
        "print('array1: {:0}차원, array2: {:1}차원, array3: {:2}차원'.format(array1.ndim, array2.ndim, array3.ndim))"
      ],
      "metadata": {
        "colab": {
          "base_uri": "https://localhost:8080/"
        },
        "id": "Qjx0jlnHHYtI",
        "outputId": "1e1519af-73a0-4065-e2fd-8875dcc24a60"
      },
      "execution_count": 9,
      "outputs": [
        {
          "output_type": "stream",
          "name": "stdout",
          "text": [
            "array1: 1차원, array2: 2차원, array3:  2차원\n"
          ]
        }
      ]
    },
    {
      "cell_type": "code",
      "source": [
        "# ndarray 내의 데이터 타입은 dtype으로 확인 가능. 정수, 실수, 문자열 다 가능"
      ],
      "metadata": {
        "id": "hLNhepiuIdVr"
      },
      "execution_count": 10,
      "outputs": []
    },
    {
      "cell_type": "code",
      "source": [
        "list1 = [1,2,3]\n",
        "print(type(list1))\n",
        "array1 = np.array(list1)\n",
        "print(type(array1))\n",
        "print(array1, array1.dtype)"
      ],
      "metadata": {
        "colab": {
          "base_uri": "https://localhost:8080/"
        },
        "id": "sw4IphsyIzNU",
        "outputId": "4bd9dbae-368d-46f3-ff83-a827ae38ef0c"
      },
      "execution_count": 11,
      "outputs": [
        {
          "output_type": "stream",
          "name": "stdout",
          "text": [
            "<class 'list'>\n",
            "<class 'numpy.ndarray'>\n",
            "[1 2 3] int64\n"
          ]
        }
      ]
    },
    {
      "cell_type": "code",
      "source": [
        "list2 = [1,2,'test']\n",
        "print(type(list2))\n",
        "array2 = np.array(list2)\n",
        "print(type(array2))\n",
        "print(array2, array2.dtype)"
      ],
      "metadata": {
        "colab": {
          "base_uri": "https://localhost:8080/"
        },
        "id": "ZeSpEJTrJGwi",
        "outputId": "c02c4089-5a54-456a-9050-9b67838c2f20"
      },
      "execution_count": 15,
      "outputs": [
        {
          "output_type": "stream",
          "name": "stdout",
          "text": [
            "<class 'list'>\n",
            "<class 'numpy.ndarray'>\n",
            "['1' '2' 'test'] <U21\n"
          ]
        }
      ]
    },
    {
      "cell_type": "code",
      "source": [
        "list3 = [1,2,3.0]\n",
        "array3 = np.array(list3)\n",
        "print(array3, array3.dtype)"
      ],
      "metadata": {
        "colab": {
          "base_uri": "https://localhost:8080/"
        },
        "id": "A0NZv43fJZaX",
        "outputId": "1657125a-71cd-4823-c5ad-f50bf39755a5"
      },
      "execution_count": 17,
      "outputs": [
        {
          "output_type": "stream",
          "name": "stdout",
          "text": [
            "[1. 2. 3.] float64\n"
          ]
        }
      ]
    },
    {
      "cell_type": "code",
      "source": [
        "# ndarray 타입변경은 astype()매서드를 이용함.\n",
        "array_int = np.array([1,2,3])\n",
        "array_float= array_int.astype('float32')\n",
        "array_int = array_float.astype('int32')\n",
        "print(array_int, array_int.dtype)"
      ],
      "metadata": {
        "colab": {
          "base_uri": "https://localhost:8080/"
        },
        "id": "D8RXev90JsyU",
        "outputId": "bac9023e-e733-4de8-b42c-8c891ef3c3c5"
      },
      "execution_count": 20,
      "outputs": [
        {
          "output_type": "stream",
          "name": "stdout",
          "text": [
            "[1 2 3] int32\n"
          ]
        }
      ]
    },
    {
      "cell_type": "markdown",
      "source": [
        "-----------------------------"
      ],
      "metadata": {
        "id": "eVfhNFclMdYh"
      }
    },
    {
      "cell_type": "code",
      "source": [
        "sequence_array = np.arange(10)\n",
        "print(sequence_array)\n",
        "print(sequence_array.dtype, sequence_array.shape)"
      ],
      "metadata": {
        "colab": {
          "base_uri": "https://localhost:8080/"
        },
        "id": "-IA-nfydMCjA",
        "outputId": "11f88793-5c40-4ff5-fb4f-38428e55f906"
      },
      "execution_count": 22,
      "outputs": [
        {
          "output_type": "stream",
          "name": "stdout",
          "text": [
            "[0 1 2 3 4 5 6 7 8 9]\n",
            "int64 (10,)\n"
          ]
        }
      ]
    },
    {
      "cell_type": "code",
      "source": [
        "zero_array = np.zeros((3,2), dtype='int32')\n",
        "print(zero_array)\n",
        "print(zero_array.dtype, zero_array.shape)\n",
        "\n",
        "one_array = np.ones((3,2))\n",
        "print(one_array)\n",
        "print(one_array.dtype, one_array.shape)"
      ],
      "metadata": {
        "colab": {
          "base_uri": "https://localhost:8080/"
        },
        "id": "qcTwxwrlMmnw",
        "outputId": "aa17f5de-5143-4b82-a03b-a6bce429cf3a"
      },
      "execution_count": 23,
      "outputs": [
        {
          "output_type": "stream",
          "name": "stdout",
          "text": [
            "[[0 0]\n",
            " [0 0]\n",
            " [0 0]]\n",
            "int32 (3, 2)\n",
            "[[1. 1.]\n",
            " [1. 1.]\n",
            " [1. 1.]]\n",
            "float64 (3, 2)\n"
          ]
        }
      ]
    },
    {
      "cell_type": "code",
      "source": [
        "# ndarray의 차원과 크기를 변경 reshape() 숫자범위내의 지정된 사이즈로 변경 가능능\n",
        "array1 = np.arange(10)\n",
        "print('array:\\n', array1)\n",
        "\n",
        "array2 = array1.reshape(2,5)\n",
        "print('array:\\n', array2)\n",
        "\n",
        "array3 = array1.reshape(5,2)\n",
        "print('arrau:\\n', array3)"
      ],
      "metadata": {
        "colab": {
          "base_uri": "https://localhost:8080/"
        },
        "id": "8gdnNfTTNCIz",
        "outputId": "4055849f-4b43-4963-d29d-e7a650d823dc"
      },
      "execution_count": 24,
      "outputs": [
        {
          "output_type": "stream",
          "name": "stdout",
          "text": [
            "array:\n",
            " [0 1 2 3 4 5 6 7 8 9]\n",
            "array:\n",
            " [[0 1 2 3 4]\n",
            " [5 6 7 8 9]]\n",
            "arrau:\n",
            " [[0 1]\n",
            " [2 3]\n",
            " [4 5]\n",
            " [6 7]\n",
            " [8 9]]\n"
          ]
        }
      ]
    },
    {
      "cell_type": "code",
      "source": [
        "# -1을 적어주면 원래 ndarray와 호환되는 새로운 shape으로 변환해줌.\n",
        "array1 = np.arange(10)\n",
        "print('array:\\n', array1)\n",
        "\n",
        "array2 = array1.reshape(-1,5)\n",
        "print('array:\\n', array2.shape)\n",
        "\n",
        "array3 = array1.reshape(-1,2)\n",
        "print('arrau:\\n', array3.shape)"
      ],
      "metadata": {
        "colab": {
          "base_uri": "https://localhost:8080/"
        },
        "id": "SGjiTjJ0Nban",
        "outputId": "fa23cce5-dc3f-4ee5-c07e-1c8d6653ef4e"
      },
      "execution_count": 25,
      "outputs": [
        {
          "output_type": "stream",
          "name": "stdout",
          "text": [
            "array:\n",
            " [0 1 2 3 4 5 6 7 8 9]\n",
            "array:\n",
            " (2, 5)\n",
            "arrau:\n",
            " (5, 2)\n"
          ]
        }
      ]
    },
    {
      "cell_type": "code",
      "source": [
        "#reshape(-1,1) 를 이용해 3차원->2차원->1차원 변경 가능 \n",
        "array1 = np.arange(8)\n",
        "array3d = array1.reshape((2,2,2))\n",
        "print('array3d:\\n', array3d.tolist())\n",
        "\n",
        "#3차원을 2차원으로 ndarray 변환\n",
        "array5 =array3d.reshape(-1,1)\n",
        "print('array5:\\n', array5.tolist())\n",
        "print('array5 shape:', array5.shape)\n",
        "\n",
        "#2차원을 1차원 ndarray로 변환\n",
        "array6 = array1.reshape(-1,1)\n",
        "print('array6:\\n', array6.tolist())\n",
        "print('array6 shape:', array6.shape)"
      ],
      "metadata": {
        "colab": {
          "base_uri": "https://localhost:8080/"
        },
        "id": "9x78PYtqNx6m",
        "outputId": "f4aa29ce-175c-4cff-de57-2cb73d1525a2"
      },
      "execution_count": 31,
      "outputs": [
        {
          "output_type": "stream",
          "name": "stdout",
          "text": [
            "array3d:\n",
            " [[[0, 1], [2, 3]], [[4, 5], [6, 7]]]\n",
            "array5:\n",
            " [[0], [1], [2], [3], [4], [5], [6], [7]]\n",
            "array5 shape: (8, 1)\n",
            "array6:\n",
            " [[0], [1], [2], [3], [4], [5], [6], [7]]\n",
            "array6 shape: (8, 1)\n"
          ]
        }
      ]
    },
    {
      "cell_type": "code",
      "source": [
        "# 3x3 의 배열로 1-10까지 작성\n",
        "array1d = np.arange(start= 1, stop=10)\n",
        "array2d = array1d.reshape(3,3)\n",
        "print(array2d)"
      ],
      "metadata": {
        "colab": {
          "base_uri": "https://localhost:8080/"
        },
        "id": "xn6GDJy_TwdX",
        "outputId": "ce883783-bd2c-4e9d-8354-ed20a96ea3e3"
      },
      "execution_count": 33,
      "outputs": [
        {
          "output_type": "stream",
          "name": "stdout",
          "text": [
            "[[1 2 3]\n",
            " [4 5 6]\n",
            " [7 8 9]]\n"
          ]
        }
      ]
    },
    {
      "cell_type": "code",
      "source": [
        "# boolean indexing\n",
        "array1d = np.arange(start=1, stop=10)\n",
        "# []안에 array1d>5 boolean indexing을 적용\n",
        "array3 = array1d[array1d>5]\n",
        "print('array1d>5 불린 인덱싱 값:', array3)"
      ],
      "metadata": {
        "colab": {
          "base_uri": "https://localhost:8080/"
        },
        "id": "VAW1XRiEVJl9",
        "outputId": "3af2afc8-f01d-4dd0-9624-d1e589d5623b"
      },
      "execution_count": 34,
      "outputs": [
        {
          "output_type": "stream",
          "name": "stdout",
          "text": [
            "array1d>5 불린 인덱싱 값: [6 7 8 9]\n"
          ]
        }
      ]
    },
    {
      "cell_type": "markdown",
      "source": [
        "1. step1: array1d>5 와 같이 ndarray의 필터링 조건을 []안에 기재\n",
        "2. step2: False값은 무시하고 True값에 해당하는 인덱스 값만 저장(유의해야 할 사항은 True값 자체인 1을 저장하는 것이 아니라 True값을 가진 인덱스를 저장한다는 것)\n",
        "3. step3: 저장된 인덱스 데이터 세트로 ndarray 조회"
      ],
      "metadata": {
        "id": "jZ6ZuOB3XefD"
      }
    },
    {
      "cell_type": "code",
      "source": [
        "# 행렬의 정렬 - sort(), argsort()"
      ],
      "metadata": {
        "id": "8-vEdUsBXBO0"
      },
      "execution_count": 36,
      "outputs": []
    },
    {
      "cell_type": "code",
      "source": [
        "org_array = np.array([3,1,9,5])\n",
        "print('원본행렬:', org_array)\n",
        "#np.sort()로 정렬\n",
        "sort_array1 = np.sort(org_array)"
      ],
      "metadata": {
        "colab": {
          "base_uri": "https://localhost:8080/"
        },
        "id": "wxW0WtSqX4x_",
        "outputId": "667e33f4-52ec-4f1d-aee0-4c1e0c73ea23"
      },
      "execution_count": 39,
      "outputs": [
        {
          "output_type": "stream",
          "name": "stdout",
          "text": [
            "원본행렬: [3 1 9 5]\n"
          ]
        }
      ]
    },
    {
      "cell_type": "code",
      "source": [
        "print('np.sort() 호출 후 반환된 정렬 행렬:',sort_array1)\n",
        "print('np.sort() 호출 후 원본 행렬:', org_array)\n",
        "#ndarray.sort()로 정렬\n",
        "sort_array2 = org_array.sort()\n",
        "print('org_arrray.sort()호출 후 반환된 행렬:', sort_array2)\n",
        "print('org_arrray.sort()호출 후 원본 행렬:', org_array)"
      ],
      "metadata": {
        "colab": {
          "base_uri": "https://localhost:8080/"
        },
        "id": "nugKkC18YL9s",
        "outputId": "24375526-17aa-4077-93a4-e6780a7700a9"
      },
      "execution_count": 40,
      "outputs": [
        {
          "output_type": "stream",
          "name": "stdout",
          "text": [
            "np.sort() 호출 후 반환된 정렬 행렬: [1 3 5 9]\n",
            "np.sort() 호출 후 원본 행렬: [3 1 9 5]\n",
            "org_arrray.sort()호출 후 반환된 행렬: None\n",
            "org_arrray.sort()호출 후 원본 행렬: [1 3 5 9]\n"
          ]
        }
      ]
    },
    {
      "cell_type": "code",
      "source": [
        "# 내림차순 정렬\n",
        "sort_array1_desc = np.sort(org_array)[::-1]\n",
        "print('내림차순으로 정렬:', sort_array1_desc)"
      ],
      "metadata": {
        "colab": {
          "base_uri": "https://localhost:8080/"
        },
        "id": "ySw1X88TfxmK",
        "outputId": "b394714f-12b1-4dd4-d369-940f09604958"
      },
      "execution_count": 41,
      "outputs": [
        {
          "output_type": "stream",
          "name": "stdout",
          "text": [
            "내림차순으로 정렬: [9 5 3 1]\n"
          ]
        }
      ]
    },
    {
      "cell_type": "code",
      "source": [
        "# 로우방향 정렬, 칼럼방향 정렬\n",
        "array2d = np.array([[8,12],\n",
        "                    [7,1]])\n",
        "sort_array2d_axis0 = np.sort(array2d, axis = 0)\n",
        "print('로우 방향으로 정렬:\\n', sort_array2d_axis0)\n",
        "sort_array2d_axis1 = np.sort(array2d, axis =1)\n",
        "print('칼럼 방향으로 정렬:\\n', sort_array2d_axis1)"
      ],
      "metadata": {
        "colab": {
          "base_uri": "https://localhost:8080/"
        },
        "id": "kd6ydCuMgFsX",
        "outputId": "d890a459-283a-48ab-eff4-de4cc845a63e"
      },
      "execution_count": 42,
      "outputs": [
        {
          "output_type": "stream",
          "name": "stdout",
          "text": [
            "로우 방향으로 정렬:\n",
            " [[ 7  1]\n",
            " [ 8 12]]\n",
            "칼럼 방향으로 정렬:\n",
            " [[ 8 12]\n",
            " [ 1  7]]\n"
          ]
        }
      ]
    },
    {
      "cell_type": "code",
      "source": [
        "from numpy.core.fromnumeric import transpose\n",
        "# 전치행렬 transpose()\n",
        "\n",
        "A = np.array([[1,2],\n",
        "              [3,4]])\n",
        "transpose_mat=np.transpose(A)\n",
        "print('A의 전치행렬:\\n', transpose_mat)"
      ],
      "metadata": {
        "colab": {
          "base_uri": "https://localhost:8080/"
        },
        "id": "lh54hrfngmyK",
        "outputId": "44c1c591-8fb6-4151-d56a-0d51ddd5d219"
      },
      "execution_count": 43,
      "outputs": [
        {
          "output_type": "stream",
          "name": "stdout",
          "text": [
            "A의 전치행렬:\n",
            " [[1 3]\n",
            " [2 4]]\n"
          ]
        }
      ]
    },
    {
      "cell_type": "markdown",
      "source": [
        "## 데이터 핸들링 - 판다스"
      ],
      "metadata": {
        "id": "i8S8rLOgiQ3i"
      }
    },
    {
      "cell_type": "code",
      "source": [],
      "metadata": {
        "id": "jTP34BwviGXF"
      },
      "execution_count": null,
      "outputs": []
    }
  ]
}