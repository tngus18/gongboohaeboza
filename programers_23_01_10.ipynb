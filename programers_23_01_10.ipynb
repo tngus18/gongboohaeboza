{
  "nbformat": 4,
  "nbformat_minor": 0,
  "metadata": {
    "colab": {
      "provenance": [],
      "authorship_tag": "ABX9TyNgyxPz8fN6rkE1Tcv/qBAR",
      "include_colab_link": true
    },
    "kernelspec": {
      "name": "python3",
      "display_name": "Python 3"
    },
    "language_info": {
      "name": "python"
    }
  },
  "cells": [
    {
      "cell_type": "markdown",
      "metadata": {
        "id": "view-in-github",
        "colab_type": "text"
      },
      "source": [
        "<a href=\"https://colab.research.google.com/github/tngus18/gongboohaeboza/blob/main/programers_23_01_10.ipynb\" target=\"_parent\"><img src=\"https://colab.research.google.com/assets/colab-badge.svg\" alt=\"Open In Colab\"/></a>"
      ]
    },
    {
      "cell_type": "markdown",
      "source": [
        "점의 위치 구하기"
      ],
      "metadata": {
        "id": "7GQmR2FEkxDV"
      }
    },
    {
      "cell_type": "code",
      "execution_count": 1,
      "metadata": {
        "id": "6pvY8bFakfyR"
      },
      "outputs": [],
      "source": [
        "dot = [2,-4]"
      ]
    },
    {
      "cell_type": "code",
      "source": [
        "dot[1]"
      ],
      "metadata": {
        "colab": {
          "base_uri": "https://localhost:8080/"
        },
        "id": "CTOSSkXPmB-_",
        "outputId": "17b4a7d1-f766-4300-d90a-4f4a7f35a327"
      },
      "execution_count": 2,
      "outputs": [
        {
          "output_type": "execute_result",
          "data": {
            "text/plain": [
              "-4"
            ]
          },
          "metadata": {},
          "execution_count": 2
        }
      ]
    },
    {
      "cell_type": "code",
      "source": [
        "def solution(dot):\n",
        "\n",
        "    if dot[0]> 0 and dot[1]>0:\n",
        "        print(1)\n",
        "    elif dot[0]>0 and dot[1]<0:\n",
        "        print(4)\n",
        "    elif dot[0]<0 and dot[1]>0:\n",
        "        print(2)\n",
        "    elif dot[0]<0 and dot[1]<0:\n",
        "        print(3)\n"
      ],
      "metadata": {
        "id": "QbUzIO6Ak3eQ"
      },
      "execution_count": 3,
      "outputs": []
    },
    {
      "cell_type": "code",
      "source": [
        "solution(dot)"
      ],
      "metadata": {
        "colab": {
          "base_uri": "https://localhost:8080/"
        },
        "id": "wOoYEcA9l_jy",
        "outputId": "8ea0b909-8f33-4a26-b8a9-9a121c61dea0"
      },
      "execution_count": 4,
      "outputs": [
        {
          "output_type": "stream",
          "name": "stdout",
          "text": [
            "4\n"
          ]
        }
      ]
    },
    {
      "cell_type": "code",
      "source": [
        "# 결과를 return 값으로 해야 함.\n",
        "def solution(dot):\n",
        "    if dot[0]> 0 and dot[1]>0:\n",
        "        return 1\n",
        "    elif dot[0]>0 and dot[1]<0:\n",
        "        return 4\n",
        "    elif dot[0]<0 and dot[1]>0:\n",
        "        return 2\n",
        "    elif dot[0]<0 and dot[1]<0:\n",
        "        return 3\n"
      ],
      "metadata": {
        "id": "eSniWvaHmJY4"
      },
      "execution_count": 5,
      "outputs": []
    },
    {
      "cell_type": "markdown",
      "source": [
        "아이스아메리카노"
      ],
      "metadata": {
        "id": "vhz-_-h8pMxS"
      }
    },
    {
      "cell_type": "code",
      "source": [
        "money = 15500"
      ],
      "metadata": {
        "id": "irXnZIP6pOuU"
      },
      "execution_count": 6,
      "outputs": []
    },
    {
      "cell_type": "code",
      "source": [
        "def solution(money):\n",
        "    return [money//5500, money%5500]"
      ],
      "metadata": {
        "id": "dWRj6YjivGXw"
      },
      "execution_count": 7,
      "outputs": []
    },
    {
      "cell_type": "code",
      "source": [
        "solution(money)"
      ],
      "metadata": {
        "colab": {
          "base_uri": "https://localhost:8080/"
        },
        "id": "pnHrQtC1yPF9",
        "outputId": "3639e35f-c2fb-4613-a100-56992914e1c2"
      },
      "execution_count": 8,
      "outputs": [
        {
          "output_type": "execute_result",
          "data": {
            "text/plain": [
              "[2, 4500]"
            ]
          },
          "metadata": {},
          "execution_count": 8
        }
      ]
    },
    {
      "cell_type": "markdown",
      "source": [
        "편지"
      ],
      "metadata": {
        "id": "-F00mq-ty0u3"
      }
    },
    {
      "cell_type": "code",
      "source": [
        "message = 'happy birthday!'"
      ],
      "metadata": {
        "id": "HK7YWUCUyQ0p"
      },
      "execution_count": 9,
      "outputs": []
    },
    {
      "cell_type": "code",
      "source": [
        "def solution(message):\n",
        "    return len(message)*2"
      ],
      "metadata": {
        "id": "bqYF6oHpy9FR"
      },
      "execution_count": 10,
      "outputs": []
    },
    {
      "cell_type": "code",
      "source": [
        "solution(message)"
      ],
      "metadata": {
        "colab": {
          "base_uri": "https://localhost:8080/"
        },
        "id": "sXTfdz1VzBKY",
        "outputId": "a772480f-e10c-4508-ac82-fc6002a0eee0"
      },
      "execution_count": 11,
      "outputs": [
        {
          "output_type": "execute_result",
          "data": {
            "text/plain": [
              "30"
            ]
          },
          "metadata": {},
          "execution_count": 11
        }
      ]
    },
    {
      "cell_type": "markdown",
      "source": [
        "문자열 뒤집기"
      ],
      "metadata": {
        "id": "OjwRxXEDzNUA"
      }
    },
    {
      "cell_type": "code",
      "source": [
        "my_string = 'jaron'"
      ],
      "metadata": {
        "id": "BgO2kOx3zDOe"
      },
      "execution_count": 12,
      "outputs": []
    },
    {
      "cell_type": "code",
      "source": [
        "def solution(my_string):\n",
        "    my_string = my_string[::-1]\n",
        "    return my_string"
      ],
      "metadata": {
        "id": "1viQ1tkZzXAJ"
      },
      "execution_count": 13,
      "outputs": []
    },
    {
      "cell_type": "code",
      "source": [
        "solution(my_string)"
      ],
      "metadata": {
        "colab": {
          "base_uri": "https://localhost:8080/",
          "height": 35
        },
        "id": "vzdawIEZzbfe",
        "outputId": "d6ab1c45-aa54-48ce-f33c-09c58c4d9b6b"
      },
      "execution_count": 14,
      "outputs": [
        {
          "output_type": "execute_result",
          "data": {
            "text/plain": [
              "'noraj'"
            ],
            "application/vnd.google.colaboratory.intrinsic+json": {
              "type": "string"
            }
          },
          "metadata": {},
          "execution_count": 14
        }
      ]
    },
    {
      "cell_type": "code",
      "source": [
        "#다른사람풀이이\n",
        "def solution(my_string):\n",
        "    return my_string[::-1]"
      ],
      "metadata": {
        "id": "DCngGI8rzd9Q"
      },
      "execution_count": 15,
      "outputs": []
    },
    {
      "cell_type": "markdown",
      "source": [
        "삼각형의 완성조건(1)"
      ],
      "metadata": {
        "id": "MtSKyWwE0rXN"
      }
    },
    {
      "cell_type": "code",
      "source": [
        "sides = [1,2,3]"
      ],
      "metadata": {
        "id": "TLA0YXm70tsR"
      },
      "execution_count": 16,
      "outputs": []
    },
    {
      "cell_type": "code",
      "source": [
        "max(sides)"
      ],
      "metadata": {
        "colab": {
          "base_uri": "https://localhost:8080/"
        },
        "id": "NncSxuwi05fH",
        "outputId": "6054ecc4-b64a-476a-b383-37817be2a701"
      },
      "execution_count": 17,
      "outputs": [
        {
          "output_type": "execute_result",
          "data": {
            "text/plain": [
              "3"
            ]
          },
          "metadata": {},
          "execution_count": 17
        }
      ]
    },
    {
      "cell_type": "code",
      "source": [
        "sides.sort()\n",
        "sides[0]"
      ],
      "metadata": {
        "colab": {
          "base_uri": "https://localhost:8080/"
        },
        "id": "WARMZj9l1-bA",
        "outputId": "0b65b96b-32e3-4d37-e2c6-396633524eac"
      },
      "execution_count": 18,
      "outputs": [
        {
          "output_type": "execute_result",
          "data": {
            "text/plain": [
              "1"
            ]
          },
          "metadata": {},
          "execution_count": 18
        }
      ]
    },
    {
      "cell_type": "code",
      "source": [
        "def solution(sides):\n",
        "    sides.sort()\n",
        "    if sides[2] >= sides[0] + sides[1]:\n",
        "        return 2\n",
        "    else:\n",
        "        return 1\n",
        "    "
      ],
      "metadata": {
        "id": "60WtZFxe0v-f"
      },
      "execution_count": 19,
      "outputs": []
    },
    {
      "cell_type": "code",
      "source": [
        "solution(sides)"
      ],
      "metadata": {
        "colab": {
          "base_uri": "https://localhost:8080/"
        },
        "id": "j74dJNqD2Ufk",
        "outputId": "35848f53-edf4-48d1-b39f-711dd920b294"
      },
      "execution_count": 20,
      "outputs": [
        {
          "output_type": "execute_result",
          "data": {
            "text/plain": [
              "2"
            ]
          },
          "metadata": {},
          "execution_count": 20
        }
      ]
    },
    {
      "cell_type": "code",
      "source": [
        "#다른사람풀이\n",
        "def solution(sides):\n",
        "    return 1 if max(sides) < (sum(sides) - max(sides)) else 2"
      ],
      "metadata": {
        "id": "PdSWFQdu2VgN"
      },
      "execution_count": 21,
      "outputs": []
    },
    {
      "cell_type": "code",
      "source": [
        "solution(sides)"
      ],
      "metadata": {
        "colab": {
          "base_uri": "https://localhost:8080/"
        },
        "id": "kT4KvIHm29Ku",
        "outputId": "92a8a373-7fac-4e05-896c-30d9bf150d29"
      },
      "execution_count": 22,
      "outputs": [
        {
          "output_type": "execute_result",
          "data": {
            "text/plain": [
              "2"
            ]
          },
          "metadata": {},
          "execution_count": 22
        }
      ]
    },
    {
      "cell_type": "markdown",
      "source": [
        "배열자르기"
      ],
      "metadata": {
        "id": "1lRZnNL93FL3"
      }
    },
    {
      "cell_type": "code",
      "source": [
        "numbers = [1,3,5]\n",
        "num1 = 1\n",
        "num2 = 3"
      ],
      "metadata": {
        "id": "HDOHqqoj2-DE"
      },
      "execution_count": 28,
      "outputs": []
    },
    {
      "cell_type": "code",
      "source": [
        "def solution(numbers):\n",
        "    return numbers[num1 : num2+1]"
      ],
      "metadata": {
        "id": "QSr7qayLlVWP"
      },
      "execution_count": 29,
      "outputs": []
    },
    {
      "cell_type": "code",
      "source": [
        "solution(numbers)"
      ],
      "metadata": {
        "colab": {
          "base_uri": "https://localhost:8080/"
        },
        "id": "2Z4s1HKWlcKP",
        "outputId": "028f9a5c-ff6e-407e-c45e-0d079463907d"
      },
      "execution_count": 30,
      "outputs": [
        {
          "output_type": "execute_result",
          "data": {
            "text/plain": [
              "[3, 5]"
            ]
          },
          "metadata": {},
          "execution_count": 30
        }
      ]
    },
    {
      "cell_type": "markdown",
      "source": [
        "특정문자 제거하기"
      ],
      "metadata": {
        "id": "CRZ_ipGEmce_"
      }
    },
    {
      "cell_type": "code",
      "source": [
        "my_string = \"abcedf\"\n",
        "letter = 'f'\n",
        "result = 'abcde'"
      ],
      "metadata": {
        "id": "G5e4zrOhldmt"
      },
      "execution_count": 65,
      "outputs": []
    },
    {
      "cell_type": "code",
      "source": [
        "def solution(my_string, letter):\n",
        "    my_string = my_string.replace(letter,\"\")\n",
        "    return my_string"
      ],
      "metadata": {
        "id": "LtjPoswxmpyG"
      },
      "execution_count": 66,
      "outputs": []
    },
    {
      "cell_type": "code",
      "source": [
        "solution(my_string, letter)"
      ],
      "metadata": {
        "colab": {
          "base_uri": "https://localhost:8080/",
          "height": 35
        },
        "id": "5Jk6RUdroQye",
        "outputId": "8abb9203-e28c-4305-ff32-d1e3d3ac49dd"
      },
      "execution_count": 68,
      "outputs": [
        {
          "output_type": "execute_result",
          "data": {
            "text/plain": [
              "'abced'"
            ],
            "application/vnd.google.colaboratory.intrinsic+json": {
              "type": "string"
            }
          },
          "metadata": {},
          "execution_count": 68
        }
      ]
    },
    {
      "cell_type": "markdown",
      "source": [
        "옷가게 할인 받기"
      ],
      "metadata": {
        "id": "afse5w6Tvot-"
      }
    },
    {
      "cell_type": "code",
      "source": [
        "price = 580000\n",
        "int(price*0.8)"
      ],
      "metadata": {
        "colab": {
          "base_uri": "https://localhost:8080/"
        },
        "id": "xE2E09kWoSUY",
        "outputId": "ca6ec453-e037-46fc-fe66-96fd61210116"
      },
      "execution_count": 86,
      "outputs": [
        {
          "output_type": "execute_result",
          "data": {
            "text/plain": [
              "464000"
            ]
          },
          "metadata": {},
          "execution_count": 86
        }
      ]
    },
    {
      "cell_type": "code",
      "source": [
        "def solution(price):\n",
        "    if price>=500000:\n",
        "        price = price *0.8\n",
        "    elif price>=300000:\n",
        "        price = price *0.9\n",
        "    elif price>=100000:\n",
        "        price = price * 0.95\n",
        "    return int(price)"
      ],
      "metadata": {
        "id": "1ESkYPlMv6bc"
      },
      "execution_count": 84,
      "outputs": []
    },
    {
      "cell_type": "code",
      "source": [
        "solution(price)"
      ],
      "metadata": {
        "id": "uVBIL5yXwS1U"
      },
      "execution_count": 85,
      "outputs": []
    },
    {
      "cell_type": "code",
      "source": [
        "def solution(price):\n",
        "    answer = price\n",
        "    if price >= 500000:\n",
        "        answer = price * 0.8\n",
        "    elif price >= 300000:\n",
        "        answer = price * 0.9\n",
        "    elif price >= 100000:\n",
        "        answer = price * 0.95\n",
        "    return int(answer)"
      ],
      "metadata": {
        "id": "mPpL697vw80p"
      },
      "execution_count": null,
      "outputs": []
    }
  ]
}