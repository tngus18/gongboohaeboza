{
 "cells": [
  {
   "cell_type": "code",
   "execution_count": 21,
   "id": "2e6c4a25",
   "metadata": {
    "ExecuteTime": {
     "end_time": "2022-12-14T07:14:53.445782Z",
     "start_time": "2022-12-14T07:14:51.188060Z"
    }
   },
   "outputs": [
    {
     "name": "stdout",
     "output_type": "stream",
     "text": [
      "55 44\n"
     ]
    },
    {
     "ename": "NameError",
     "evalue": "name '입려길스트길이' is not defined",
     "output_type": "error",
     "traceback": [
      "\u001b[1;31m---------------------------------------------------------------------------\u001b[0m",
      "\u001b[1;31mNameError\u001b[0m                                 Traceback (most recent call last)",
      "Cell \u001b[1;32mIn[21], line 28\u001b[0m\n\u001b[0;32m     25\u001b[0m 주어진리스트 \u001b[38;5;241m=\u001b[39m \u001b[38;5;28minput\u001b[39m()\u001b[38;5;241m.\u001b[39msplit(\u001b[38;5;124m'\u001b[39m\u001b[38;5;124m \u001b[39m\u001b[38;5;124m'\u001b[39m)\n\u001b[0;32m     26\u001b[0m 주어진리스트 \u001b[38;5;241m=\u001b[39m [\u001b[38;5;28mint\u001b[39m(i) \u001b[38;5;28;01mfor\u001b[39;00m i \u001b[38;5;129;01min\u001b[39;00m 주어진리스트]\n\u001b[1;32m---> 28\u001b[0m \u001b[38;5;28mprint\u001b[39m(\u001b[43m병합정렬\u001b[49m\u001b[43m(\u001b[49m\u001b[43m주어진리스트\u001b[49m\u001b[43m)\u001b[49m)\n",
      "Cell \u001b[1;32mIn[21], line 7\u001b[0m, in \u001b[0;36m병합정렬\u001b[1;34m(입력리스트)\u001b[0m\n\u001b[0;32m      5\u001b[0m \u001b[38;5;28;01mif\u001b[39;00m 입력리스트길이 \u001b[38;5;241m<\u001b[39m\u001b[38;5;241m=\u001b[39m \u001b[38;5;241m1\u001b[39m:\n\u001b[0;32m      6\u001b[0m     \u001b[38;5;28;01mreturn\u001b[39;00m 입력리스트\n\u001b[1;32m----> 7\u001b[0m 중간값 \u001b[38;5;241m=\u001b[39m \u001b[43m입려길스트길이\u001b[49m \u001b[38;5;241m/\u001b[39m\u001b[38;5;241m/\u001b[39m \u001b[38;5;241m2\u001b[39m\n\u001b[0;32m      8\u001b[0m 그룹_하나 \u001b[38;5;241m=\u001b[39m 병합정렬 (입력리스트[:중간값])\n\u001b[0;32m      9\u001b[0m 그룹_둘 \u001b[38;5;241m=\u001b[39m 병합정렬(입력리스트[중간값:])\n",
      "\u001b[1;31mNameError\u001b[0m: name '입려길스트길이' is not defined"
     ]
    }
   ],
   "source": [
    "#51\n",
    "# 병합정렬\n",
    "def 병합정렬 (입력리스트):\n",
    "    입력리스트길이 = len(입력리스트)\n",
    "    if 입력리스트길이 <= 1:\n",
    "        return 입력리스트\n",
    "    중간값 = 입려길스트길이 // 2\n",
    "    그룹_하나 = 병합정렬 (입력리스트[:중간값])\n",
    "    그룹_둘 = 병합정렬(입력리스트[중간값:])\n",
    "    결과값 = []\n",
    "    \n",
    "    while 그룹_하나 and 그룹_둘:\n",
    "        if 그룹_하나[0] <그룹_둘[0]:\n",
    "            결과값.append(그룹_하나.pop(0))\n",
    "        else:\n",
    "            결과값.append(그룹_둘.pop(0))\n",
    "    \n",
    "    while 그룹_하나:\n",
    "        결과값.append(그룹_하나.pop(0))\n",
    "    while 그룹_둘:\n",
    "        결과값.append(그룹_둘.pop(0))\n",
    "    return 결과값\n",
    "\n",
    "#주어진리스트 = [180, 145,165, 45, 170, 175, 173, 171]\n",
    "주어진리스트 = input().split(' ')\n",
    "주어진리스트 = [int(i) for i in 주어진리스트]\n",
    "\n",
    "print(병합정렬(주어진리스트))"
   ]
  },
  {
   "cell_type": "code",
   "execution_count": 19,
   "id": "a6de59f5",
   "metadata": {
    "ExecuteTime": {
     "end_time": "2022-12-14T07:14:40.405604Z",
     "start_time": "2022-12-14T07:14:39.640254Z"
    }
   },
   "outputs": [
    {
     "name": "stdout",
     "output_type": "stream",
     "text": [
      "11\n",
      "[11]\n"
     ]
    }
   ],
   "source": [
    "\n",
    "#병합 정렬\n",
    "def 병합정렬(입력리스트):\n",
    "    입력리스트길이 = len(입력리스트)\n",
    "    if 입력리스트길이 <= 1:\n",
    "        return 입력리스트\n",
    "    중간값 = 입력리스트길이 // 2\n",
    "    그룹_하나 = 병합정렬(입력리스트[:중간값])\n",
    "    그룹_둘 = 병합정렬(입력리스트[중간값:])\n",
    "    결과값 = []\n",
    "\n",
    "    while 그룹_하나 and 그룹_둘:\n",
    "        if 그룹_하나[0] < 그룹_둘[0]:\n",
    "            결과값.append(그룹_하나.pop(0))\n",
    "        else:\n",
    "            결과값.append(그룹_둘.pop(0))\n",
    "\n",
    "    while 그룹_하나:\n",
    "        결과값.append(그룹_하나.pop(0))\n",
    "    while 그룹_둘:\n",
    "        결과값.append(그룹_둘.pop(0))\n",
    "    return 결과값\n",
    "\n",
    "주어진리스트 = input().split(' ')\n",
    "주어진리스트 = [int(i) for i in 주어진리스트]\n",
    "\n",
    "print(병합정렬(주어진리스트))\n",
    "\n"
   ]
  },
  {
   "cell_type": "code",
   "execution_count": 24,
   "id": "6772deef",
   "metadata": {
    "ExecuteTime": {
     "end_time": "2022-12-14T07:23:45.611934Z",
     "start_time": "2022-12-14T07:23:42.663431Z"
    }
   },
   "outputs": [
    {
     "name": "stdout",
     "output_type": "stream",
     "text": [
      "655 666 444 555\n",
      "[444, 555, 655, 666]\n"
     ]
    }
   ],
   "source": [
    "#52 퀵정렬\n",
    "\n",
    "def 퀵정렬(입력리스트):\n",
    "    입력리스트의길이 = len(입력리스트)\n",
    "    if 입력리스트의길이 <= 1:\n",
    "        return 입력리스트\n",
    "    기준값 = 입력리스트.pop(입력리스트의길이//2)\n",
    "    그룹_하나 = []\n",
    "    그룹_둘 = []\n",
    "    \n",
    "    for i in range(입력리스트의길이-1):\n",
    "        if 입력리스트[i] < 기준값:\n",
    "            그룹_하나.append(입력리스트[i])\n",
    "        else:\n",
    "            그룹_둘.append(입력리스트[i])\n",
    "    return 퀵정렬(그룹_하나) + [기준값] + 퀵정렬(그룹_둘)\n",
    "\n",
    "주어진리스트 = input().split(' ')\n",
    "주어진리스트 = [int(i) for i in 주어진리스트]\n",
    "\n",
    "print(퀵정렬(주어진리스트))"
   ]
  },
  {
   "cell_type": "code",
   "execution_count": 26,
   "id": "e1e1d2cb",
   "metadata": {
    "ExecuteTime": {
     "end_time": "2022-12-14T07:31:48.275981Z",
     "start_time": "2022-12-14T07:31:45.864397Z"
    }
   },
   "outputs": [
    {
     "name": "stdout",
     "output_type": "stream",
     "text": [
      "((()\n",
      "no\n"
     ]
    }
   ],
   "source": [
    "# # 문제53 : 괄호 문자열\n",
    "\n",
    "# 괄호 문자열이란 괄호 기호인 '{', '}', '[', ']', '(', ')' 와 같은 것을 말한다. 그 중 괄호의 모양이 바르게 구성 된 문자열을 **바른 문자열**, 그렇지 않은 문자열을 **바르지 않은 문자열**이라 부르도록 하자. \n",
    "\n",
    "# (())와 같은 문자열은 바른 문자열이지만 ()()) 와 같은 문자열은 바르지 않은 문자열이다.(해당 문제에서는 소괄호만 판별하지만, 실력이 되시는 분들은 중괄호와 대괄호까지 판별해보세요.)\n",
    "\n",
    "# **입력으로 주어진 괄호 문자열이 바른 문자열인지 바르지 않은 문자열인지 \"YES\"와 \"NO\"로 구분된 문자열을 출력해보자.**\n",
    "\n",
    "def math(e):\n",
    "    if e.count('(') != e.count(')'):\n",
    "        return False\n",
    "    괄호 = []\n",
    "    for i in e:\n",
    "        if i == '(':\n",
    "            괄호.append('(')\n",
    "        if i == ')':\n",
    "            if len(괄호) == 0:\n",
    "                return False\n",
    "    return True\n",
    "\n",
    "n = input()\n",
    "if math(n) == True:\n",
    "    print('yes')\n",
    "else:\n",
    "    print('no')"
   ]
  },
  {
   "cell_type": "code",
   "execution_count": 33,
   "id": "68d4f028",
   "metadata": {
    "ExecuteTime": {
     "end_time": "2022-12-14T07:45:42.361498Z",
     "start_time": "2022-12-14T07:45:39.355931Z"
    }
   },
   "outputs": [
    {
     "name": "stdout",
     "output_type": "stream",
     "text": [
      "8 7 4 8 5 8\n",
      "No\n"
     ]
    }
   ],
   "source": [
    "# 문제54 : 연속되는 수\n",
    "\n",
    "user = input().split()\n",
    "user = [int(i) for i in user]\n",
    "def sol(l):\n",
    "    l = sorted(l)\n",
    "    for i in range(len(l) - 1):\n",
    "        if l[i]+1 != l[i+1]:\n",
    "            return 'No'\n",
    "    return 'yes'\n",
    "\n",
    "print(sol(user))"
   ]
  },
  {
   "cell_type": "code",
   "execution_count": 32,
   "id": "9e9b6254",
   "metadata": {
    "ExecuteTime": {
     "end_time": "2022-12-14T07:45:25.714631Z",
     "start_time": "2022-12-14T07:45:23.302759Z"
    }
   },
   "outputs": [
    {
     "name": "stdout",
     "output_type": "stream",
     "text": [
      "8 4 5 6 9 5\n",
      "NO\n"
     ]
    }
   ],
   "source": [
    "\n",
    "user_input = input().split(' ')\n",
    "user_input = [int(i) for i in user_input]\n",
    "\n",
    "def sol(l):\n",
    "    l = sorted(l)\n",
    "    for i in range(len(l) - 1):\n",
    "        if l[i]+1 != l[i+1]:\n",
    "            return 'NO'\n",
    "    return 'YES'\n",
    "\n",
    "print(sol(user_input))\n"
   ]
  },
  {
   "cell_type": "code",
   "execution_count": 40,
   "id": "894c1bfb",
   "metadata": {
    "ExecuteTime": {
     "end_time": "2022-12-14T08:14:58.623662Z",
     "start_time": "2022-12-14T08:14:58.603984Z"
    }
   },
   "outputs": [
    {
     "name": "stdout",
     "output_type": "stream",
     "text": [
      "[['A', 'C'], ['A', 'C'], ['B', 'C'], ['A', 'C'], ['B', 'C'], ['B', 'C'], ['A', 'C']]\n",
      "7\n"
     ]
    }
   ],
   "source": [
    "원판의이동경로 = []\n",
    "def 하노이(원반의수, 시작기둥, 목표기둥, 보조기둥):\n",
    "    if 원반의수 == 1:\n",
    "        원판의이동경로.append([시작기둥, 목표기둥])\n",
    "        return None\n",
    "    \n",
    "    하노이(원반의수-1,시작기둥,목표기둥,보조기둥)\n",
    "    원판의이동경로.append([시작기둥, 목표기둥])\n",
    "    하노이(원반의수-1, 보조기둥, 목표기둥, 시작기둥)\n",
    "    \n",
    "하노이(3,'A','C','B')\n",
    "print(원판의이동경로)\n",
    "print(len(원판의이동경로))"
   ]
  },
  {
   "cell_type": "code",
   "execution_count": 47,
   "id": "6a6f6d56",
   "metadata": {
    "ExecuteTime": {
     "end_time": "2022-12-14T08:20:59.027437Z",
     "start_time": "2022-12-14T08:20:59.014522Z"
    }
   },
   "outputs": [
    {
     "name": "stdout",
     "output_type": "stream",
     "text": [
      "England 22023\n"
     ]
    }
   ],
   "source": [
    "#56. 리스트 함수 응용\n",
    "nationWidth = {\n",
    "\t'korea': 220877, \n",
    "\t'Rusia': 17098242, \n",
    "\t'China': 9596961, \n",
    "\t'France': 543965, \n",
    "\t'Japan': 377915,\n",
    "\t'England' : 242900,\n",
    "}\n",
    "\n",
    "\n",
    "w = nationWidth['korea']\n",
    "nationWidth.pop('korea')\n",
    "\n",
    "l=list(nationWidth.items())\n",
    "gap=max(nationWidth.values())\n",
    "item =0\n",
    "\n",
    "for i in l:\n",
    "    if gap > abs(i[1]-w):\n",
    "        gap = abs(i[1]-w)\n",
    "        item = i\n",
    "print(item[0],item[1]-220877)"
   ]
  },
  {
   "cell_type": "code",
   "execution_count": 46,
   "id": "e6511c94",
   "metadata": {
    "ExecuteTime": {
     "end_time": "2022-12-14T08:20:02.292339Z",
     "start_time": "2022-12-14T08:20:02.273423Z"
    }
   },
   "outputs": [
    {
     "name": "stdout",
     "output_type": "stream",
     "text": [
      "England 22023\n"
     ]
    }
   ],
   "source": [
    "nationWidth = {\n",
    "\t'korea': 220877, \n",
    "\t'Rusia': 17098242, \n",
    "\t'China': 9596961, \n",
    "\t'France': 543965, \n",
    "\t'Japan': 377915,\n",
    "\t'England' : 242900,\n",
    "}\n",
    "\n",
    "w = nationWidth['korea']\n",
    "nationWidth.pop('korea')\n",
    "l = list(nationWidth.items())\n",
    "gap = max(nationWidth.values())\n",
    "item = 0\n",
    "\n",
    "for i in l:\n",
    "    if gap > abs(i[1] - w):\n",
    "        gap = abs(i[1] - w)\n",
    "        item = i\n",
    "print(item[0],item[1]-220877)"
   ]
  },
  {
   "cell_type": "code",
   "execution_count": 60,
   "id": "783ab365",
   "metadata": {
    "ExecuteTime": {
     "end_time": "2022-12-14T08:34:07.517242Z",
     "start_time": "2022-12-14T08:34:07.508228Z"
    }
   },
   "outputs": [
    {
     "name": "stdout",
     "output_type": "stream",
     "text": [
      "England 22023\n"
     ]
    }
   ],
   "source": [
    "nationWidth = {\n",
    "\t'korea': 220877, \n",
    "\t'Rusia': 17098242, \n",
    "\t'China': 9596961, \n",
    "\t'France': 543965, \n",
    "\t'Japan': 377915,\n",
    "\t'England' : 242900,\n",
    "}\n",
    "\n",
    "w = nationWidth['korea']\n",
    "nationWidth.pop('korea')\n",
    "\n",
    "l =list(nationWidth.items())\n",
    "gap=max(list(nationWidth.values()))\n",
    "item =0\n",
    "\n",
    "for i in l:\n",
    "    if gap > abs(i[1] - w):\n",
    "        gap = abs(i[1] - w)\n",
    "        item = i\n",
    "print(item[0], item[1]-220877)"
   ]
  },
  {
   "cell_type": "code",
   "execution_count": 63,
   "id": "21cc901f",
   "metadata": {
    "ExecuteTime": {
     "end_time": "2022-12-14T08:36:13.245994Z",
     "start_time": "2022-12-14T08:36:13.231602Z"
    }
   },
   "outputs": [
    {
     "name": "stdout",
     "output_type": "stream",
     "text": [
      "301\n"
     ]
    }
   ],
   "source": [
    "def count(n):\n",
    "    c = str(list(range(n+1))).count('1')\n",
    "    return c\n",
    "\n",
    "print(count(1000))"
   ]
  },
  {
   "cell_type": "code",
   "execution_count": 65,
   "id": "96cf07da",
   "metadata": {
    "ExecuteTime": {
     "end_time": "2022-12-14T08:37:22.079009Z",
     "start_time": "2022-12-14T08:37:22.070949Z"
    }
   },
   "outputs": [
    {
     "name": "stdout",
     "output_type": "stream",
     "text": [
      "301\n"
     ]
    }
   ],
   "source": [
    "def count(n):\n",
    "    c = str(list(range(n+1))).count('1')\n",
    "    return c\n",
    "\n",
    "print(count(1000))"
   ]
  },
  {
   "cell_type": "code",
   "execution_count": null,
   "id": "cb859891",
   "metadata": {},
   "outputs": [],
   "source": [
    "# # 문제58 : 콤마 찍기\n",
    "\n",
    "# 원범이는 편의점 아르바이트가 끝난 후 정산을 하고자 합니다.\n",
    "# 정산을 빨리하고 집에가고 싶은 원범이는 프로그램을 만들려고 합니다.\n",
    "\n",
    "# **숫자를 입력 받고 천단위로 콤마(,)를 찍어주세요.**\n",
    "\n",
    "# 예를들어, 123456789를 입력받았으면 123,456,789 를 출력해야합니다.# 문제58 : 콤마 찍기\n",
    "\n",
    "# 원범이는 편의점 아르바이트가 끝난 후 정산을 하고자 합니다.\n",
    "# 정산을 빨리하고 집에가고 싶은 원범이는 프로그램을 만들려고 합니다.\n",
    "\n",
    "# **숫자를 입력 받고 천단위로 콤마(,)를 찍어주세요.**\n",
    "\n",
    "# 예를들어, 123456789를 입력받았으면 123,456,789 를 출력해야합니다.\n",
    "\n"
   ]
  }
 ],
 "metadata": {
  "kernelspec": {
   "display_name": "Python 3 (ipykernel)",
   "language": "python",
   "name": "python3"
  },
  "language_info": {
   "codemirror_mode": {
    "name": "ipython",
    "version": 3
   },
   "file_extension": ".py",
   "mimetype": "text/x-python",
   "name": "python",
   "nbconvert_exporter": "python",
   "pygments_lexer": "ipython3",
   "version": "3.9.15"
  },
  "toc": {
   "base_numbering": 1,
   "nav_menu": {},
   "number_sections": true,
   "sideBar": true,
   "skip_h1_title": false,
   "title_cell": "Table of Contents",
   "title_sidebar": "Contents",
   "toc_cell": false,
   "toc_position": {},
   "toc_section_display": true,
   "toc_window_display": false
  },
  "varInspector": {
   "cols": {
    "lenName": 16,
    "lenType": 16,
    "lenVar": 40
   },
   "kernels_config": {
    "python": {
     "delete_cmd_postfix": "",
     "delete_cmd_prefix": "del ",
     "library": "var_list.py",
     "varRefreshCmd": "print(var_dic_list())"
    },
    "r": {
     "delete_cmd_postfix": ") ",
     "delete_cmd_prefix": "rm(",
     "library": "var_list.r",
     "varRefreshCmd": "cat(var_dic_list()) "
    }
   },
   "types_to_exclude": [
    "module",
    "function",
    "builtin_function_or_method",
    "instance",
    "_Feature"
   ],
   "window_display": false
  }
 },
 "nbformat": 4,
 "nbformat_minor": 5
}
