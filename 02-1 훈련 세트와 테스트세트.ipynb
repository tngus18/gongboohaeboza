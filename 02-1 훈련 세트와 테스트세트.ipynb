{
 "cells": [
  {
   "cell_type": "code",
   "execution_count": 2,
   "id": "9629b394",
   "metadata": {
    "ExecuteTime": {
     "end_time": "2022-12-15T00:32:41.688495Z",
     "start_time": "2022-12-15T00:32:41.669262Z"
    }
   },
   "outputs": [],
   "source": [
    "bream_length = [25.4, 26.3, 26.5, 29.0, 29.0, 29.7, 29.7, 30.0, 30.0, 30.7, 31.0, 31.0, \n",
    "                31.5, 32.0, 32.0, 32.0, 33.0, 33.0, 33.5, 33.5, 34.0, 34.0, 34.5, 35.0, \n",
    "                35.0, 35.0, 35.0, 36.0, 36.0, 37.0, 38.5, 38.5, 39.5, 41.0, 41.0, 9.8, \n",
    "                10.5, 10.6, 11.0, 11.2, 11.3, 11.8, 11.8, 12.0, 12.2, 12.4, 13.0, 14.3, 15.0]\n",
    "bream_weight = [242.0, 290.0, 340.0, 363.0, 430.0, 450.0, 500.0, 390.0, 450.0, 500.0, 475.0, 500.0, \n",
    "                500.0, 340.0, 600.0, 600.0, 700.0, 700.0, 610.0, 650.0, 575.0, 685.0, 620.0, 680.0, \n",
    "                700.0, 725.0, 720.0, 714.0, 850.0, 1000.0, 920.0, 955.0, 925.0, 975.0, 950.0, 6.7, \n",
    "                7.5, 7.0, 9.7, 9.8, 8.7, 10.0, 9.9, 9.8, 12.2, 13.4, 12.2, 19.7, 19.9]"
   ]
  },
  {
   "cell_type": "code",
   "execution_count": 3,
   "id": "da4a46b0",
   "metadata": {},
   "outputs": [
    {
     "data": {
      "image/png": "[encoded data removed]",
      "text/plain": [
       "<Figure size 640x480 with 1 Axes>"
      ]
     },
     "metadata": {},
     "output_type": "display_data"
    }
   ],
   "source": [
    "import matplotlib.pyplot as plt\n",
    "plt.scatter(bream_length, bream_weight)\n",
    "plt.xlabel('length')\n",
    "plt.ylabel('weight')\n",
    "plt.show()"
   ]
  },
  {
   "cell_type": "code",
   "execution_count": 4,
   "id": "9629b394",
   "metadata": {
    "ExecuteTime": {
     "end_time": "2022-12-15T00:32:41.688495Z",
     "start_time": "2022-12-15T00:32:41.669262Z"
    }
   },
   "outputs": [],
   "source": [
    "fish_length = [25.4, 26.3, 26.5, 29.0, 29.0, 29.7, 29.7, 30.0, 30.0, 30.7, 31.0, 31.0, \n",
    "                31.5, 32.0, 32.0, 32.0, 33.0, 33.0, 33.5, 33.5, 34.0, 34.0, 34.5, 35.0, \n",
    "                35.0, 35.0, 35.0, 36.0, 36.0, 37.0, 38.5, 38.5, 39.5, 41.0, 41.0, 9.8, \n",
    "                10.5, 10.6, 11.0, 11.2, 11.3, 11.8, 11.8, 12.0, 12.2, 12.4, 13.0, 14.3, 15.0]\n",
    "fish_weight = [242.0, 290.0, 340.0, 363.0, 430.0, 450.0, 500.0, 390.0, 450.0, 500.0, 475.0, 500.0, \n",
    "                500.0, 340.0, 600.0, 600.0, 700.0, 700.0, 610.0, 650.0, 575.0, 685.0, 620.0, 680.0, \n",
    "                700.0, 725.0, 720.0, 714.0, 850.0, 1000.0, 920.0, 955.0, 925.0, 975.0, 950.0, 6.7, \n",
    "                7.5, 7.0, 9.7, 9.8, 8.7, 10.0, 9.9, 9.8, 12.2, 13.4, 12.2, 19.7, 19.9]"
   ]
  },
  {
   "cell_type": "code",
   "execution_count": 5,
   "id": "bb4439a7",
   "metadata": {
    "ExecuteTime": {
     "end_time": "2022-12-15T00:32:42.014761Z",
     "start_time": "2022-12-15T00:32:42.001279Z"
    }
   },
   "outputs": [],
   "source": [
    "fish_data = [[l,w] for l,w in zip(fish_length, fish_weight)]\n",
    "fish_target=[1]*35 + [0]*14"
   ]
  },
  {
   "cell_type": "markdown",
   "id": "33c0e4ef",
   "metadata": {},
   "source": [
    "- 생선테이터 : 샘플 (도미:35마리, 빙어:14마리) => 49개의 샘플\n",
    "- 사용하는 특성은 길이, 무게 2가지\n",
    "- 도미를 훈련세트로 빙어를 테스트세트로\n",
    "\n",
    "\n"
   ]
  },
  {
   "cell_type": "code",
   "execution_count": 15,
   "id": "bc434d90",
   "metadata": {
    "ExecuteTime": {
     "end_time": "2022-12-15T00:32:42.370416Z",
     "start_time": "2022-12-15T00:32:42.366120Z"
    }
   },
   "outputs": [],
   "source": [
    "from sklearn.neighbors import KNeighborsClassifier\n",
    "kn=KNeighborsClassifier()"
   ]
  },
  {
   "cell_type": "code",
   "execution_count": 16,
   "id": "fa4045fe",
   "metadata": {
    "ExecuteTime": {
     "end_time": "2022-12-15T00:32:42.540584Z",
     "start_time": "2022-12-15T00:32:42.527671Z"
    }
   },
   "outputs": [
    {
     "name": "stdout",
     "output_type": "stream",
     "text": [
      "[29.0, 430.0]\n"
     ]
    }
   ],
   "source": [
    "print(fish_data[4])"
   ]
  },
  {
   "cell_type": "code",
   "execution_count": 17,
   "id": "9df82e22",
   "metadata": {},
   "outputs": [
    {
     "name": "stdout",
     "output_type": "stream",
     "text": [
      "[25.4, 242.0]\n"
     ]
    }
   ],
   "source": [
    "print(fish_data[0])"
   ]
  },
  {
   "cell_type": "code",
   "execution_count": 6,
   "id": "7ce59e95",
   "metadata": {
    "ExecuteTime": {
     "end_time": "2022-12-15T00:32:42.699000Z",
     "start_time": "2022-12-15T00:32:42.688803Z"
    }
   },
   "outputs": [
    {
     "name": "stdout",
     "output_type": "stream",
     "text": [
      "[[25.4, 242.0], [26.3, 290.0], [26.5, 340.0], [29.0, 363.0], [29.0, 430.0]]\n"
     ]
    }
   ],
   "source": [
    "print(fish_data[0:5])"
   ]
  },
  {
   "cell_type": "code",
   "execution_count": 7,
   "id": "8fbb0572",
   "metadata": {
    "ExecuteTime": {
     "end_time": "2022-12-15T00:35:45.946379Z",
     "start_time": "2022-12-15T00:35:45.928211Z"
    }
   },
   "outputs": [
    {
     "name": "stdout",
     "output_type": "stream",
     "text": [
      "[[25.4, 242.0], [26.3, 290.0], [26.5, 340.0], [29.0, 363.0], [29.0, 430.0]]\n"
     ]
    }
   ],
   "source": [
    "print(fish_data[:5])"
   ]
  },
  {
   "cell_type": "code",
   "execution_count": 8,
   "id": "c5fed25d",
   "metadata": {
    "ExecuteTime": {
     "end_time": "2022-12-15T00:35:54.689800Z",
     "start_time": "2022-12-15T00:35:54.681866Z"
    }
   },
   "outputs": [
    {
     "name": "stdout",
     "output_type": "stream",
     "text": [
      "[[12.2, 12.2], [12.4, 13.4], [13.0, 12.2], [14.3, 19.7], [15.0, 19.9]]\n"
     ]
    }
   ],
   "source": [
    "print(fish_data[44:])"
   ]
  },
  {
   "cell_type": "code",
   "execution_count": 9,
   "id": "36ad662f",
   "metadata": {
    "ExecuteTime": {
     "end_time": "2022-12-15T00:32:42.853659Z",
     "start_time": "2022-12-15T00:32:42.847008Z"
    }
   },
   "outputs": [
    {
     "name": "stdout",
     "output_type": "stream",
     "text": [
      "[[25.4, 242.0], [26.3, 290.0], [26.5, 340.0], [29.0, 363.0], [29.0, 430.0], [29.7, 450.0], [29.7, 500.0], [30.0, 390.0], [30.0, 450.0], [30.7, 500.0], [31.0, 475.0], [31.0, 500.0], [31.5, 500.0], [32.0, 340.0], [32.0, 600.0], [32.0, 600.0], [33.0, 700.0], [33.0, 700.0], [33.5, 610.0], [33.5, 650.0], [34.0, 575.0], [34.0, 685.0], [34.5, 620.0], [35.0, 680.0], [35.0, 700.0], [35.0, 725.0], [35.0, 720.0], [36.0, 714.0], [36.0, 850.0], [37.0, 1000.0], [38.5, 920.0], [38.5, 955.0], [39.5, 925.0], [41.0, 975.0], [41.0, 950.0]]\n",
      "[1, 1, 1, 1, 1, 1, 1, 1, 1, 1, 1, 1, 1, 1, 1, 1, 1, 1, 1, 1, 1, 1, 1, 1, 1, 1, 1, 1, 1, 1, 1, 1, 1, 1, 1]\n"
     ]
    }
   ],
   "source": [
    "# 훈련 세트로 입력값 중 0-34번째까지\n",
    "train_input = fish_data[:35]\n",
    "print(train_input)\n",
    "# 훈련 세트로 타깃값 중 0-34번째까지\n",
    "train_target = fish_target[:35]\n",
    "print(train_target)"
   ]
  },
  {
   "cell_type": "code",
   "execution_count": 10,
   "id": "34a7cdf2",
   "metadata": {
    "ExecuteTime": {
     "end_time": "2022-12-15T00:32:43.038280Z",
     "start_time": "2022-12-15T00:32:43.024609Z"
    }
   },
   "outputs": [
    {
     "name": "stdout",
     "output_type": "stream",
     "text": [
      "[[9.8, 6.7], [10.5, 7.5], [10.6, 7.0], [11.0, 9.7], [11.2, 9.8], [11.3, 8.7], [11.8, 10.0], [11.8, 9.9], [12.0, 9.8], [12.2, 12.2], [12.4, 13.4], [13.0, 12.2], [14.3, 19.7], [15.0, 19.9]]\n",
      "[0, 0, 0, 0, 0, 0, 0, 0, 0, 0, 0, 0, 0, 0]\n"
     ]
    }
   ],
   "source": [
    "# 테스트 세트로 입력값 중 35번째부터 마지막까지\n",
    "test_input = fish_data[35:]\n",
    "print(test_input)\n",
    "# 테스트 세트로 타깃값 중 35번째부터 마지막까지\n",
    "test_target = fish_target[35:]\n",
    "print(test_target)\n"
   ]
  },
  {
   "cell_type": "code",
   "execution_count": 11,
   "id": "0ea3d7b0",
   "metadata": {
    "ExecuteTime": {
     "end_time": "2022-12-15T00:32:43.254408Z",
     "start_time": "2022-12-15T00:32:43.235615Z"
    }
   },
   "outputs": [
    {
     "name": "stderr",
     "output_type": "stream",
     "text": [
      "c:\\Users\\user\\anaconda3\\lib\\site-packages\\sklearn\\neighbors\\_classification.py:228: FutureWarning: Unlike other reduction functions (e.g. `skew`, `kurtosis`), the default behavior of `mode` typically preserves the axis it acts along. In SciPy 1.11.0, this behavior will change: the default value of `keepdims` will become False, the `axis` over which the statistic is taken will be eliminated, and the value None will no longer be accepted. Set `keepdims` to True or False to avoid this warning.\n",
      "  mode, _ = stats.mode(_y[neigh_ind, k], axis=1)\n"
     ]
    },
    {
     "data": {
      "text/plain": [
       "0.0"
      ]
     },
     "execution_count": 11,
     "metadata": {},
     "output_type": "execute_result"
    }
   ],
   "source": [
    "kn = kn.fit(train_input,train_target)\n",
    "kn.score(test_input,test_target)"
   ]
  },
  {
   "cell_type": "markdown",
   "id": "12c8cdcf",
   "metadata": {},
   "source": [
    "* 특정 종류의 샘플이 과도하게 많은 샘플링 편향을 가진다면 제대로 된 학습모댈 만들 수 없음. => 그래서 0.0이 나옴.\n",
    "* 이 부분을 보완해줄 수 있는 것이 넘파이 : 파이썬 라이브러리"
   ]
  },
  {
   "cell_type": "code",
   "execution_count": 66,
   "id": "35c7177a",
   "metadata": {
    "ExecuteTime": {
     "end_time": "2022-12-15T00:32:43.686458Z",
     "start_time": "2022-12-15T00:32:43.675484Z"
    }
   },
   "outputs": [],
   "source": [
    "import numpy as np"
   ]
  },
  {
   "cell_type": "code",
   "execution_count": 67,
   "id": "f12220be",
   "metadata": {
    "ExecuteTime": {
     "end_time": "2022-12-15T00:32:44.029182Z",
     "start_time": "2022-12-15T00:32:44.014204Z"
    }
   },
   "outputs": [],
   "source": [
    "input_arr = np.array(fish_data)\n",
    "target_arr = np.array(fish_target)"
   ]
  },
  {
   "cell_type": "code",
   "execution_count": 68,
   "id": "9b27516d",
   "metadata": {
    "ExecuteTime": {
     "end_time": "2022-12-15T00:32:44.215008Z",
     "start_time": "2022-12-15T00:32:44.204643Z"
    },
    "scrolled": true
   },
   "outputs": [
    {
     "name": "stdout",
     "output_type": "stream",
     "text": [
      "[[  25.4  242. ]\n",
      " [  26.3  290. ]\n",
      " [  26.5  340. ]\n",
      " [  29.   363. ]\n",
      " [  29.   430. ]\n",
      " [  29.7  450. ]\n",
      " [  29.7  500. ]\n",
      " [  30.   390. ]\n",
      " [  30.   450. ]\n",
      " [  30.7  500. ]\n",
      " [  31.   475. ]\n",
      " [  31.   500. ]\n",
      " [  31.5  500. ]\n",
      " [  32.   340. ]\n",
      " [  32.   600. ]\n",
      " [  32.   600. ]\n",
      " [  33.   700. ]\n",
      " [  33.   700. ]\n",
      " [  33.5  610. ]\n",
      " [  33.5  650. ]\n",
      " [  34.   575. ]\n",
      " [  34.   685. ]\n",
      " [  34.5  620. ]\n",
      " [  35.   680. ]\n",
      " [  35.   700. ]\n",
      " [  35.   725. ]\n",
      " [  35.   720. ]\n",
      " [  36.   714. ]\n",
      " [  36.   850. ]\n",
      " [  37.  1000. ]\n",
      " [  38.5  920. ]\n",
      " [  38.5  955. ]\n",
      " [  39.5  925. ]\n",
      " [  41.   975. ]\n",
      " [  41.   950. ]\n",
      " [   9.8    6.7]\n",
      " [  10.5    7.5]\n",
      " [  10.6    7. ]\n",
      " [  11.     9.7]\n",
      " [  11.2    9.8]\n",
      " [  11.3    8.7]\n",
      " [  11.8   10. ]\n",
      " [  11.8    9.9]\n",
      " [  12.     9.8]\n",
      " [  12.2   12.2]\n",
      " [  12.4   13.4]\n",
      " [  13.    12.2]\n",
      " [  14.3   19.7]\n",
      " [  15.    19.9]]\n",
      "(49, 2)\n",
      "[1 1 1 1 1 1 1 1 1 1 1 1 1 1 1 1 1 1 1 1 1 1 1 1 1 1 1 1 1 1 1 1 1 1 1 0 0\n",
      " 0 0 0 0 0 0 0 0 0 0 0 0]\n"
     ]
    }
   ],
   "source": [
    "print(input_arr)\n",
    "print(input_arr.shape)\n",
    "print(target_arr)"
   ]
  },
  {
   "cell_type": "markdown",
   "id": "9f65f870",
   "metadata": {},
   "source": [
    "* 배열을 섞은 후에 나누는 방식 대신 무작위로 샘플을 고름\n",
    "        input_arr 와 target_arr이 같이 선택되어야 함."
   ]
  },
  {
   "cell_type": "code",
   "execution_count": 69,
   "id": "65249141",
   "metadata": {
    "ExecuteTime": {
     "end_time": "2022-12-15T00:32:44.493895Z",
     "start_time": "2022-12-15T00:32:44.484687Z"
    }
   },
   "outputs": [],
   "source": [
    "np.random.seed(42)\n",
    "index = np.arange(49)\n",
    "np.random.shuffle(index)"
   ]
  },
  {
   "cell_type": "code",
   "execution_count": 70,
   "id": "258ab6b6",
   "metadata": {
    "ExecuteTime": {
     "end_time": "2022-12-15T00:32:44.663031Z",
     "start_time": "2022-12-15T00:32:44.644714Z"
    }
   },
   "outputs": [
    {
     "name": "stdout",
     "output_type": "stream",
     "text": [
      "[13 45 47 44 17 27 26 25 31 19 12  4 34  8  3  6 40 41 46 15  9 16 24 33\n",
      " 30  0 43 32  5 29 11 36  1 21  2 37 35 23 39 10 22 18 48 20  7 42 14 28\n",
      " 38]\n"
     ]
    }
   ],
   "source": [
    "print(index)"
   ]
  },
  {
   "cell_type": "code",
   "execution_count": 71,
   "id": "24307cc5",
   "metadata": {
    "ExecuteTime": {
     "end_time": "2022-12-15T00:32:45.020964Z",
     "start_time": "2022-12-15T00:32:45.000871Z"
    }
   },
   "outputs": [
    {
     "name": "stdout",
     "output_type": "stream",
     "text": [
      "[[ 26.3 290. ]\n",
      " [ 29.  363. ]]\n"
     ]
    }
   ],
   "source": [
    "print(input_arr[[1,3]])"
   ]
  },
  {
   "cell_type": "code",
   "execution_count": 72,
   "id": "ed462958",
   "metadata": {
    "ExecuteTime": {
     "end_time": "2022-12-15T00:32:45.331751Z",
     "start_time": "2022-12-15T00:32:45.312777Z"
    }
   },
   "outputs": [],
   "source": [
    "train_input = input_arr[index[:35]]\n",
    "train_target = target_arr[index[:35]]"
   ]
  },
  {
   "cell_type": "code",
   "execution_count": 73,
   "id": "7ba20d09",
   "metadata": {
    "ExecuteTime": {
     "end_time": "2022-12-15T00:32:45.501521Z",
     "start_time": "2022-12-15T00:32:45.488564Z"
    }
   },
   "outputs": [
    {
     "name": "stdout",
     "output_type": "stream",
     "text": [
      "[ 32. 340.] [ 32. 340.]\n"
     ]
    }
   ],
   "source": [
    "print(input_arr[13], train_input[0])"
   ]
  },
  {
   "cell_type": "code",
   "execution_count": 83,
   "id": "e244409d",
   "metadata": {
    "ExecuteTime": {
     "end_time": "2022-12-15T00:37:16.335949Z",
     "start_time": "2022-12-15T00:37:16.324953Z"
    }
   },
   "outputs": [],
   "source": [
    "test_input = input_arr[index[35:]]\n",
    "test_target = target_arr[index[35:]]"
   ]
  },
  {
   "cell_type": "code",
   "execution_count": 84,
   "id": "847e587c",
   "metadata": {
    "ExecuteTime": {
     "end_time": "2022-12-15T00:37:16.632272Z",
     "start_time": "2022-12-15T00:37:16.508967Z"
    }
   },
   "outputs": [
    {
     "data": {
      "image/png": "[encoded data removed]",
      "text/plain": [
       "<Figure size 800x700 with 1 Axes>"
      ]
     },
     "metadata": {},
     "output_type": "display_data"
    }
   ],
   "source": [
    "import matplotlib.pyplot as plt\n",
    "plt.scatter(train_input[:,0], train_input[:,1])\n",
    "plt.scatter(test_input[:,0],test_input[:,1])\n",
    "plt.xlabel('length')\n",
    "plt.ylabel('weight')\n",
    "plt.show()"
   ]
  },
  {
   "cell_type": "code",
   "execution_count": 85,
   "id": "5808ebb2",
   "metadata": {
    "ExecuteTime": {
     "end_time": "2022-12-15T00:37:16.694374Z",
     "start_time": "2022-12-15T00:37:16.683443Z"
    }
   },
   "outputs": [],
   "source": [
    "# 훈련세트와 테스트세트로 k -최근접 이웃 모델 훈련시김."
   ]
  },
  {
   "cell_type": "markdown",
   "id": "7dd0f489",
   "metadata": {},
   "source": [
    "- fi()메서드를 실행할 때마다 KNeighborsClassifier클래스의 객체는 이전에 학습한 모든 것을 잃어버림.\n",
    "\n",
    "- '#' 두번째 머신러닝"
   ]
  },
  {
   "cell_type": "code",
   "execution_count": 86,
   "id": "9f10d934",
   "metadata": {
    "ExecuteTime": {
     "end_time": "2022-12-15T00:37:17.639414Z",
     "start_time": "2022-12-15T00:37:17.627743Z"
    }
   },
   "outputs": [],
   "source": [
    "kn = kn.fit(train_input,train_target)"
   ]
  },
  {
   "cell_type": "code",
   "execution_count": 87,
   "id": "60c77bed",
   "metadata": {
    "ExecuteTime": {
     "end_time": "2022-12-15T00:37:17.936392Z",
     "start_time": "2022-12-15T00:37:17.924853Z"
    }
   },
   "outputs": [
    {
     "data": {
      "text/plain": [
       "1.0"
      ]
     },
     "execution_count": 87,
     "metadata": {},
     "output_type": "execute_result"
    }
   ],
   "source": [
    "kn.score(test_input,test_target)"
   ]
  },
  {
   "cell_type": "code",
   "execution_count": 88,
   "id": "fcd38550",
   "metadata": {
    "ExecuteTime": {
     "end_time": "2022-12-15T00:37:18.140717Z",
     "start_time": "2022-12-15T00:37:18.122684Z"
    }
   },
   "outputs": [
    {
     "data": {
      "text/plain": [
       "array([0, 0, 1, 0, 1, 1, 1, 0, 1, 1, 0, 1, 1, 0])"
      ]
     },
     "execution_count": 88,
     "metadata": {},
     "output_type": "execute_result"
    }
   ],
   "source": [
    "kn.predict(test_input)"
   ]
  },
  {
   "cell_type": "code",
   "execution_count": 89,
   "id": "ef170063",
   "metadata": {
    "ExecuteTime": {
     "end_time": "2022-12-15T00:37:18.559258Z",
     "start_time": "2022-12-15T00:37:18.545882Z"
    }
   },
   "outputs": [
    {
     "data": {
      "text/plain": [
       "array([0, 0, 1, 0, 1, 1, 1, 0, 1, 1, 0, 1, 1, 0])"
      ]
     },
     "execution_count": 89,
     "metadata": {},
     "output_type": "execute_result"
    }
   ],
   "source": [
    "test_target"
   ]
  },
  {
   "cell_type": "code",
   "execution_count": null,
   "id": "64b39bce",
   "metadata": {},
   "outputs": [],
   "source": []
  },
  {
   "cell_type": "code",
   "execution_count": null,
   "id": "ec56d072",
   "metadata": {},
   "outputs": [],
   "source": []
  },
  {
   "cell_type": "code",
   "execution_count": null,
   "id": "bd300804",
   "metadata": {},
   "outputs": [],
   "source": []
  },
  {
   "cell_type": "code",
   "execution_count": null,
   "id": "0b71e554",
   "metadata": {},
   "outputs": [],
   "source": []
  }
 ],
 "metadata": {
  "kernelspec": {
   "display_name": "base",
   "language": "python",
   "name": "python3"
  },
  "language_info": {
   "codemirror_mode": {
    "name": "ipython",
    "version": 3
   },
   "file_extension": ".py",
   "mimetype": "text/x-python",
   "name": "python",
   "nbconvert_exporter": "python",
   "pygments_lexer": "ipython3",
   "version": "3.9.13 (main, Aug 25 2022, 23:51:50) [MSC v.1916 64 bit (AMD64)]"
  },
  "toc": {
   "base_numbering": 1,
   "nav_menu": {},
   "number_sections": true,
   "sideBar": true,
   "skip_h1_title": false,
   "title_cell": "Table of Contents",
   "title_sidebar": "Contents",
   "toc_cell": false,
   "toc_position": {},
   "toc_section_display": true,
   "toc_window_display": false
  },
  "varInspector": {
   "cols": {
    "lenName": 16,
    "lenType": 16,
    "lenVar": 40
   },
   "kernels_config": {
    "python": {
     "delete_cmd_postfix": "",
     "delete_cmd_prefix": "del ",
     "library": "var_list.py",
     "varRefreshCmd": "print(var_dic_list())"
    },
    "r": {
     "delete_cmd_postfix": ") ",
     "delete_cmd_prefix": "rm(",
     "library": "var_list.r",
     "varRefreshCmd": "cat(var_dic_list()) "
    }
   },
   "types_to_exclude": [
    "module",
    "function",
    "builtin_function_or_method",
    "instance",
    "_Feature"
   ],
   "window_display": false
  },
  "vscode": {
   "interpreter": {
    "hash": "a077222d77dfe082b8f1dd562ad70e458ac2ab76993a0b248ab0476e32e9e8dd"
   }
  }
 },
 "nbformat": 4,
 "nbformat_minor": 5
}
