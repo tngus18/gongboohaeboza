{
  "nbformat": 4,
  "nbformat_minor": 0,
  "metadata": {
    "colab": {
      "provenance": [],
      "authorship_tag": "ABX9TyP6Lrnzf6ZoVPbspa/91p/2",
      "include_colab_link": true
    },
    "kernelspec": {
      "name": "python3",
      "display_name": "Python 3"
    },
    "language_info": {
      "name": "python"
    }
  },
  "cells": [
    {
      "cell_type": "markdown",
      "metadata": {
        "id": "view-in-github",
        "colab_type": "text"
      },
      "source": [
        "<a href=\"https://colab.research.google.com/github/tngus18/gongboohaeboza/blob/main/programmers_23_01_11.ipynb\" target=\"_parent\"><img src=\"https://colab.research.google.com/assets/colab-badge.svg\" alt=\"Open In Colab\"/></a>"
      ]
    },
    {
      "cell_type": "markdown",
      "source": [
        "최댓값 만들기"
      ],
      "metadata": {
        "id": "7waO6NGESOig"
      }
    },
    {
      "cell_type": "code",
      "execution_count": 10,
      "metadata": {
        "id": "_6lel_nCRxQE"
      },
      "outputs": [],
      "source": [
        "numbers = [1,2,4,3,6,7,5]"
      ]
    },
    {
      "cell_type": "code",
      "source": [
        "max(numbers)"
      ],
      "metadata": {
        "colab": {
          "base_uri": "https://localhost:8080/"
        },
        "id": "XKts8j_CSqAY",
        "outputId": "84c85f02-33c4-4d6d-f777-866e1031c2b8"
      },
      "execution_count": 11,
      "outputs": [
        {
          "output_type": "execute_result",
          "data": {
            "text/plain": [
              "7"
            ]
          },
          "metadata": {},
          "execution_count": 11
        }
      ]
    },
    {
      "cell_type": "code",
      "source": [
        "numbers.sort()\n",
        "numbers[3]"
      ],
      "metadata": {
        "colab": {
          "base_uri": "https://localhost:8080/"
        },
        "id": "I80IM2UNSyB_",
        "outputId": "39c4a493-396b-4889-e54f-cc828c2e4d05"
      },
      "execution_count": 12,
      "outputs": [
        {
          "output_type": "execute_result",
          "data": {
            "text/plain": [
              "4"
            ]
          },
          "metadata": {},
          "execution_count": 12
        }
      ]
    },
    {
      "cell_type": "code",
      "source": [
        "def solution(numbers):\n",
        "    numbers.sort()\n",
        "    return numbers[-1]*numbers[-2]"
      ],
      "metadata": {
        "id": "iXGXuukLSbLX"
      },
      "execution_count": 13,
      "outputs": []
    },
    {
      "cell_type": "code",
      "source": [
        "solution(numbers)"
      ],
      "metadata": {
        "colab": {
          "base_uri": "https://localhost:8080/"
        },
        "id": "5JGOi3D0THSn",
        "outputId": "151e7f65-9d33-4804-a89a-acdd7c38bf2e"
      },
      "execution_count": 14,
      "outputs": [
        {
          "output_type": "execute_result",
          "data": {
            "text/plain": [
              "42"
            ]
          },
          "metadata": {},
          "execution_count": 14
        }
      ]
    },
    {
      "cell_type": "code",
      "source": [
        "# 다른사람 풀이\n",
        "def solution(numbers):\n",
        "    numbers.sort(reverse=True)\n",
        "    return numbers[0]*numbers[1]"
      ],
      "metadata": {
        "id": "6m-xMdQ-TIx-"
      },
      "execution_count": 15,
      "outputs": []
    },
    {
      "cell_type": "markdown",
      "source": [
        "직각삼각형 출력하기"
      ],
      "metadata": {
        "id": "MuWTZxwhTYPi"
      }
    },
    {
      "cell_type": "code",
      "source": [
        "n = int(input())\n",
        "for i in range(1, n+1):\n",
        "    print('*'*i, end = '\\n')"
      ],
      "metadata": {
        "colab": {
          "base_uri": "https://localhost:8080/"
        },
        "id": "RDYo_LEuTRpM",
        "outputId": "f8e42537-eb2b-463d-a17c-f779e61cb898"
      },
      "execution_count": 17,
      "outputs": [
        {
          "output_type": "stream",
          "name": "stdout",
          "text": [
            "6\n",
            "*\n",
            "**\n",
            "***\n",
            "****\n",
            "*****\n",
            "******\n"
          ]
        }
      ]
    },
    {
      "cell_type": "markdown",
      "source": [
        "문자 반복 출력하기"
      ],
      "metadata": {
        "id": "_StAXwMKW8_1"
      }
    },
    {
      "cell_type": "code",
      "source": [
        "my_string = 'hello'\n",
        "n=3"
      ],
      "metadata": {
        "id": "qlpveA1uTywu"
      },
      "execution_count": 19,
      "outputs": []
    },
    {
      "cell_type": "code",
      "source": [
        "def solution(my_string , n):\n",
        "    answer = []\n",
        "    for i in range(len(my_string)):\n",
        "        for j in range(n):\n",
        "            answer.append(my_string[i])\n",
        "    return ''.join(answer)"
      ],
      "metadata": {
        "id": "iyhUiijoXRV-"
      },
      "execution_count": 37,
      "outputs": []
    },
    {
      "cell_type": "code",
      "source": [
        "solution(my_string, n)"
      ],
      "metadata": {
        "colab": {
          "base_uri": "https://localhost:8080/",
          "height": 35
        },
        "id": "lgGxpJqiXhiB",
        "outputId": "86c69c6d-f32b-493c-bb79-4bc31de8fa06"
      },
      "execution_count": 38,
      "outputs": [
        {
          "output_type": "execute_result",
          "data": {
            "text/plain": [
              "'hhheeellllllooo'"
            ],
            "application/vnd.google.colaboratory.intrinsic+json": {
              "type": "string"
            }
          },
          "metadata": {},
          "execution_count": 38
        }
      ]
    },
    {
      "cell_type": "code",
      "source": [
        "# 다른사람풀이\n",
        "def solution(my_string, n):\n",
        "    answer = ''\n",
        "    for m in my_string:\n",
        "        answer += (m * n)\n",
        "    return answer\n",
        "\n",
        "def solution(my_string, n):\n",
        "    return ''.join(i*n for i in my_string)\n",
        "\n"
      ],
      "metadata": {
        "id": "y6ksEXvrbq1R"
      },
      "execution_count": null,
      "outputs": []
    },
    {
      "cell_type": "markdown",
      "source": [
        "배열의 유사도"
      ],
      "metadata": {
        "id": "JciBJUkLc_da"
      }
    },
    {
      "cell_type": "code",
      "source": [
        "s1 = ['a','b','c']\n",
        "s2 = ['com','b','d','p','c']"
      ],
      "metadata": {
        "id": "QA7pKn9OdI4J"
      },
      "execution_count": 39,
      "outputs": []
    },
    {
      "cell_type": "code",
      "source": [
        "def solution(s1,s2):\n",
        "    return len(set(s1).intersection(s2))"
      ],
      "metadata": {
        "id": "UuckAzDcdPlt"
      },
      "execution_count": 40,
      "outputs": []
    },
    {
      "cell_type": "code",
      "source": [
        "solution(s1, s2)"
      ],
      "metadata": {
        "colab": {
          "base_uri": "https://localhost:8080/"
        },
        "id": "LMgWlMhSrSSJ",
        "outputId": "5b79dc5d-8a5d-4c81-eedb-a0d7ba61dde0"
      },
      "execution_count": 41,
      "outputs": [
        {
          "output_type": "execute_result",
          "data": {
            "text/plain": [
              "2"
            ]
          },
          "metadata": {},
          "execution_count": 41
        }
      ]
    },
    {
      "cell_type": "code",
      "source": [
        "# 다른사람 풀이\n",
        "def solution(s1, s2):\n",
        "    return len(set(s1)&set(s2));"
      ],
      "metadata": {
        "id": "P-7X2G7prUBl"
      },
      "execution_count": 42,
      "outputs": []
    },
    {
      "cell_type": "code",
      "source": [
        "# set은 수학에서 이야기하는 집합과 비슷합니다.\n",
        "# 순서가 없고, 집합안에서는 unique한 값을 가집니다.\n",
        "# 그리고 mutable 객체입니다.\n",
        "# REPL으로 여러가지를 확인해봅니다.\n",
        "\n",
        "# 중괄호를 사용하는 것은 dictionary와 비슷하지만, key가 없습니다. 값만 존재합니다.\n",
        "\n",
        "# set 교집합 연산자 &"
      ],
      "metadata": {
        "id": "DHtWOef4r6bF"
      },
      "execution_count": 43,
      "outputs": []
    },
    {
      "cell_type": "code",
      "source": [],
      "metadata": {
        "id": "uCWh_zh8t4o_"
      },
      "execution_count": null,
      "outputs": []
    }
  ]
}