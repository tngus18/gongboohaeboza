{
  "nbformat": 4,
  "nbformat_minor": 0,
  "metadata": {
    "colab": {
      "provenance": [],
      "authorship_tag": "ABX9TyPRTR/0o3qzlOSCO/uDMTjO",
      "include_colab_link": true
    },
    "kernelspec": {
      "name": "python3",
      "display_name": "Python 3"
    },
    "language_info": {
      "name": "python"
    }
  },
  "cells": [
    {
      "cell_type": "markdown",
      "metadata": {
        "id": "view-in-github",
        "colab_type": "text"
      },
      "source": [
        "<a href=\"https://colab.research.google.com/github/tngus18/gongboohaeboza/blob/main/programers.ipynb\" target=\"_parent\"><img src=\"https://colab.research.google.com/assets/colab-badge.svg\" alt=\"Open In Colab\"/></a>"
      ]
    },
    {
      "cell_type": "markdown",
      "source": [
        "프로그래머스 문제  : 정수리스트 거꾸로 반환환"
      ],
      "metadata": {
        "id": "IALxHxjLPjtu"
      }
    },
    {
      "cell_type": "code",
      "source": [
        "num_list =  [[1, 2, 3, 4, 5], [1, 1, 1, 1, 1, 2], [1, 0, 1, 1, 1, 3, 5]]"
      ],
      "metadata": {
        "id": "1fZCNbQKN9xF"
      },
      "execution_count": 16,
      "outputs": []
    },
    {
      "cell_type": "code",
      "source": [
        "for a in num_list:\n",
        "    a.reverse()\n",
        "print(num_list)"
      ],
      "metadata": {
        "colab": {
          "base_uri": "https://localhost:8080/"
        },
        "id": "S5vxMK0SPTAa",
        "outputId": "5ad197f8-8181-410a-cba2-5e582cf7a62b"
      },
      "execution_count": 17,
      "outputs": [
        {
          "output_type": "stream",
          "name": "stdout",
          "text": [
            "[[5, 4, 3, 2, 1], [2, 1, 1, 1, 1, 1], [5, 3, 1, 1, 1, 0, 1]]\n"
          ]
        }
      ]
    },
    {
      "cell_type": "code",
      "source": [
        "# num_list.reverse"
      ],
      "metadata": {
        "id": "faS5JVn7PTnz"
      },
      "execution_count": 32,
      "outputs": []
    },
    {
      "cell_type": "code",
      "source": [
        "num_list"
      ],
      "metadata": {
        "colab": {
          "base_uri": "https://localhost:8080/"
        },
        "id": "SzZP-mOEPUUC",
        "outputId": "b2f0f3b0-76a3-4832-e7fb-9c5765eeba8b"
      },
      "execution_count": 19,
      "outputs": [
        {
          "output_type": "execute_result",
          "data": {
            "text/plain": [
              "[[5, 4, 3, 2, 1], [2, 1, 1, 1, 1, 1], [5, 3, 1, 1, 1, 0, 1]]"
            ]
          },
          "metadata": {},
          "execution_count": 19
        }
      ]
    },
    {
      "cell_type": "markdown",
      "source": [
        "-------------------------------------------------"
      ],
      "metadata": {
        "id": "L2JuVHfQPsxB"
      }
    },
    {
      "cell_type": "code",
      "source": [
        "# 값이 나오는게 아니라 자체를 변경 num_list.reverse()\n",
        "def solution (num_list):\n",
        "    num_list.reverse()\n",
        "    return num_list\n",
        "    "
      ],
      "metadata": {
        "id": "5E4nnOj_PVHk"
      },
      "execution_count": 20,
      "outputs": []
    },
    {
      "cell_type": "code",
      "source": [
        "num_list1 =  [[1, 2, 3, 4, 5], [1, 1, 1, 1, 1, 2], [1, 0, 1, 1, 1, 3, 5]]"
      ],
      "metadata": {
        "id": "GPU6JgTNPV86"
      },
      "execution_count": 21,
      "outputs": []
    },
    {
      "cell_type": "code",
      "source": [
        "\n",
        "def solution (num_list1):\n",
        "    for a in num_list1:\n",
        "        a.reverse()\n",
        "        return num_list1"
      ],
      "metadata": {
        "id": "QBkyFljGPW6Z"
      },
      "execution_count": 22,
      "outputs": []
    },
    {
      "cell_type": "code",
      "source": [
        "solution(num_list1)"
      ],
      "metadata": {
        "colab": {
          "base_uri": "https://localhost:8080/"
        },
        "id": "yuGSEyA9PXkh",
        "outputId": "0c5cca17-983a-4a8a-98e5-91c6c2de3a28"
      },
      "execution_count": 23,
      "outputs": [
        {
          "output_type": "execute_result",
          "data": {
            "text/plain": [
              "[[5, 4, 3, 2, 1], [1, 1, 1, 1, 1, 2], [1, 0, 1, 1, 1, 3, 5]]"
            ]
          },
          "metadata": {},
          "execution_count": 23
        }
      ]
    },
    {
      "cell_type": "code",
      "source": [
        "num =  [[1, 2, 3, 4, 5], [1, 1, 1, 1, 1, 2], [1, 0, 1, 1, 1, 3, 5]]\n"
      ],
      "metadata": {
        "id": "SryRgMBRPYo3"
      },
      "execution_count": 24,
      "outputs": []
    },
    {
      "cell_type": "markdown",
      "source": [
        "----------------------"
      ],
      "metadata": {
        "id": "O3PVCo2fPxca"
      }
    },
    {
      "cell_type": "code",
      "source": [
        "# return 값을 한 줄에 작성\n",
        "def solution (num):\n",
        "    return [list(reversed(a)) for a in num]"
      ],
      "metadata": {
        "id": "VKl1fib0PahT"
      },
      "execution_count": 25,
      "outputs": []
    },
    {
      "cell_type": "code",
      "source": [
        "solution(num)"
      ],
      "metadata": {
        "colab": {
          "base_uri": "https://localhost:8080/"
        },
        "id": "gShQB9stPa0_",
        "outputId": "aba79399-b775-4208-e5d0-3175aad45b0b"
      },
      "execution_count": 26,
      "outputs": [
        {
          "output_type": "execute_result",
          "data": {
            "text/plain": [
              "[[5, 4, 3, 2, 1], [2, 1, 1, 1, 1, 1], [5, 3, 1, 1, 1, 0, 1]]"
            ]
          },
          "metadata": {},
          "execution_count": 26
        }
      ]
    },
    {
      "cell_type": "markdown",
      "source": [
        "-------------"
      ],
      "metadata": {
        "id": "D0wgEAqVPzqJ"
      }
    },
    {
      "cell_type": "code",
      "source": [
        "# 인덱스 값, 리스트 안의 a 값\n",
        "# for in 문 안에서 인덱스와 리스트 나눠주고 num의 인덱스를 정의하고 리스트의 a 값을 reverse 해줌\n",
        "for i, a in enumerate(num):\n",
        "    num[i] = list(reversed(a))\n",
        "print(num)"
      ],
      "metadata": {
        "colab": {
          "base_uri": "https://localhost:8080/"
        },
        "id": "ZaHyBcbmPbrg",
        "outputId": "84f976ec-2563-46da-999d-f1883003fac6"
      },
      "execution_count": 27,
      "outputs": [
        {
          "output_type": "stream",
          "name": "stdout",
          "text": [
            "[[5, 4, 3, 2, 1], [2, 1, 1, 1, 1, 1], [5, 3, 1, 1, 1, 0, 1]]\n"
          ]
        }
      ]
    },
    {
      "cell_type": "code",
      "source": [
        "num =  [[1, 2, 3, 4, 5], [1, 1, 1, 1, 1, 2], [1, 0, 1, 1, 1, 3, 5]]"
      ],
      "metadata": {
        "id": "6YMoekG8PcUX"
      },
      "execution_count": 28,
      "outputs": []
    },
    {
      "cell_type": "markdown",
      "source": [
        "--------한줄완성---------"
      ],
      "metadata": {
        "id": "Dwkaf8GOQRDS"
      }
    },
    {
      "cell_type": "code",
      "source": [
        "def solution(num):\n",
        "    return num[::-1]\n"
      ],
      "metadata": {
        "id": "Y0XaT_MhPdVg"
      },
      "execution_count": 29,
      "outputs": []
    },
    {
      "cell_type": "code",
      "source": [
        "solution(num)"
      ],
      "metadata": {
        "colab": {
          "base_uri": "https://localhost:8080/"
        },
        "id": "uy0RR22pPeBJ",
        "outputId": "563ca342-410f-484c-dbd9-015ef6a4209c"
      },
      "execution_count": 30,
      "outputs": [
        {
          "output_type": "execute_result",
          "data": {
            "text/plain": [
              "[[1, 0, 1, 1, 1, 3, 5], [1, 1, 1, 1, 1, 2], [1, 2, 3, 4, 5]]"
            ]
          },
          "metadata": {},
          "execution_count": 30
        }
      ]
    },
    {
      "cell_type": "markdown",
      "source": [
        "짝수 홀수 개수"
      ],
      "metadata": {
        "id": "t_ai9uTqP8sr"
      }
    },
    {
      "cell_type": "code",
      "source": [
        "num_list=[1,2,3,4,5]"
      ],
      "metadata": {
        "id": "DBtKD-40Pe6U"
      },
      "execution_count": 53,
      "outputs": []
    },
    {
      "cell_type": "code",
      "source": [
        "def solution(num_list):\n",
        "    even_cnt, odd_cnt = 0, 0\n",
        "\n",
        "    for i in num_list:\n",
        "        if i%2:                        # if 에 들어가는 값이 0이 아니면 무조건 true\n",
        "            odd_cnt += 1               # true 라면 홀수기 때문에.\n",
        "        else:\n",
        "            even_cnt += 1\n",
        "    return [even_cnt, odd_cnt]\n"
      ],
      "metadata": {
        "id": "DKlSXjjkQJbK"
      },
      "execution_count": 65,
      "outputs": []
    },
    {
      "cell_type": "code",
      "source": [
        "solution(num_list)"
      ],
      "metadata": {
        "colab": {
          "base_uri": "https://localhost:8080/"
        },
        "id": "PgYzbj9HQonV",
        "outputId": "15a5c868-9f73-4235-f78e-bd90a55b8b11"
      },
      "execution_count": 66,
      "outputs": [
        {
          "output_type": "execute_result",
          "data": {
            "text/plain": [
              "[2, 3]"
            ]
          },
          "metadata": {},
          "execution_count": 66
        }
      ]
    },
    {
      "cell_type": "markdown",
      "source": [
        "-------------------------------"
      ],
      "metadata": {
        "id": "_0xN_piXVqSb"
      }
    },
    {
      "cell_type": "markdown",
      "source": [],
      "metadata": {
        "id": "z07XcH7jVrq9"
      }
    },
    {
      "cell_type": "code",
      "source": [
        "def solution(num_list):\n",
        "    answer = [0,0]\n",
        "    for n in num_list:\n",
        "        answer[n%2]+=1\n",
        "    return answer\n"
      ],
      "metadata": {
        "id": "2Pu3E6-xQrVr"
      },
      "execution_count": 67,
      "outputs": []
    },
    {
      "cell_type": "code",
      "source": [
        "solution(num_list)"
      ],
      "metadata": {
        "colab": {
          "base_uri": "https://localhost:8080/"
        },
        "id": "urONNFrOVaI0",
        "outputId": "2c0ca7ed-5dbb-4cc3-d01c-bf7646d605eb"
      },
      "execution_count": 69,
      "outputs": [
        {
          "output_type": "execute_result",
          "data": {
            "text/plain": [
              "[2, 3]"
            ]
          },
          "metadata": {},
          "execution_count": 69
        }
      ]
    },
    {
      "cell_type": "markdown",
      "source": [
        "짝수의 합"
      ],
      "metadata": {
        "id": "_61JNUD9WOCF"
      }
    },
    {
      "cell_type": "code",
      "source": [
        "n = 4"
      ],
      "metadata": {
        "id": "j0o-Bz2NXXoA"
      },
      "execution_count": 88,
      "outputs": []
    },
    {
      "cell_type": "code",
      "source": [
        "def solution (n):\n",
        "    answer = 0\n",
        "    for i in range(2, n+1, 2):\n",
        "        answer += i\n",
        "    return answer"
      ],
      "metadata": {
        "id": "tm-AWAPoVbwH"
      },
      "execution_count": 106,
      "outputs": []
    },
    {
      "cell_type": "code",
      "source": [
        "solution(n)"
      ],
      "metadata": {
        "colab": {
          "base_uri": "https://localhost:8080/"
        },
        "id": "QmHGGHOWXWzD",
        "outputId": "5d929456-1bac-46ef-f7cc-450bf5abdf31"
      },
      "execution_count": 107,
      "outputs": [
        {
          "output_type": "execute_result",
          "data": {
            "text/plain": [
              "6"
            ]
          },
          "metadata": {},
          "execution_count": 107
        }
      ]
    },
    {
      "cell_type": "markdown",
      "source": [
        "배열의 원소길이 구하기기"
      ],
      "metadata": {
        "id": "nreSfYOSajsq"
      }
    },
    {
      "cell_type": "code",
      "source": [
        "strlist = [\"We\", \"are\", \"the\", \"world!\"]"
      ],
      "metadata": {
        "id": "HOTXt-8yXhnn"
      },
      "execution_count": 108,
      "outputs": []
    },
    {
      "cell_type": "code",
      "source": [
        "type(strlist)"
      ],
      "metadata": {
        "colab": {
          "base_uri": "https://localhost:8080/"
        },
        "id": "z982tScVdY-7",
        "outputId": "c7c0f135-fe04-4db9-d745-fb011874c336"
      },
      "execution_count": 139,
      "outputs": [
        {
          "output_type": "execute_result",
          "data": {
            "text/plain": [
              "list"
            ]
          },
          "metadata": {},
          "execution_count": 139
        }
      ]
    },
    {
      "cell_type": "code",
      "source": [
        "def solution(strlist):\n",
        "    answer = []\n",
        "    for i in range(len(strlist)):\n",
        "        answer.append(len(strlist[i]))\n",
        "    return answer"
      ],
      "metadata": {
        "id": "Jgr65kbDapoD"
      },
      "execution_count": 163,
      "outputs": []
    },
    {
      "cell_type": "code",
      "source": [
        "solution(strlist)"
      ],
      "metadata": {
        "colab": {
          "base_uri": "https://localhost:8080/"
        },
        "id": "ZUmCO8h2a5B9",
        "outputId": "89c7618a-e1df-44a8-fce5-92aea02f8379"
      },
      "execution_count": 164,
      "outputs": [
        {
          "output_type": "execute_result",
          "data": {
            "text/plain": [
              "[2, 3, 3, 6]"
            ]
          },
          "metadata": {},
          "execution_count": 164
        }
      ]
    },
    {
      "cell_type": "markdown",
      "source": [
        "-----------------------"
      ],
      "metadata": {
        "id": "t9XwKJbFiyt6"
      }
    },
    {
      "cell_type": "code",
      "source": [
        "def solution(strlist):\n",
        "    return [len(str) for str in strlist]\n"
      ],
      "metadata": {
        "id": "wpMyoM6Ma6Ai"
      },
      "execution_count": 165,
      "outputs": []
    },
    {
      "cell_type": "code",
      "source": [
        "solution(strlist)"
      ],
      "metadata": {
        "colab": {
          "base_uri": "https://localhost:8080/"
        },
        "id": "drkGnNtKiwbX",
        "outputId": "6a5bd5e8-0032-4d87-85a3-365ecaf6fb08"
      },
      "execution_count": 166,
      "outputs": [
        {
          "output_type": "execute_result",
          "data": {
            "text/plain": [
              "[2, 3, 3, 6]"
            ]
          },
          "metadata": {},
          "execution_count": 166
        }
      ]
    },
    {
      "cell_type": "code",
      "source": [],
      "metadata": {
        "id": "nEMQ5BQsix6r"
      },
      "execution_count": null,
      "outputs": []
    }
  ]
}