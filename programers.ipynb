{
  "nbformat": 4,
  "nbformat_minor": 0,
  "metadata": {
    "colab": {
      "provenance": [],
      "authorship_tag": "ABX9TyOSIuNN1FKLctFRXRnQFaLs",
      "include_colab_link": true
    },
    "kernelspec": {
      "name": "python3",
      "display_name": "Python 3"
    },
    "language_info": {
      "name": "python"
    }
  },
  "cells": [
    {
      "cell_type": "markdown",
      "metadata": {
        "id": "view-in-github",
        "colab_type": "text"
      },
      "source": [
        "<a href=\"https://colab.research.google.com/github/tngus18/gongboohaeboza/blob/main/programers.ipynb\" target=\"_parent\"><img src=\"https://colab.research.google.com/assets/colab-badge.svg\" alt=\"Open In Colab\"/></a>"
      ]
    },
    {
      "cell_type": "markdown",
      "source": [
        "프로그래머스 문제  : 정수리스터 거꾸로 반환환"
      ],
      "metadata": {
        "id": "IALxHxjLPjtu"
      }
    },
    {
      "cell_type": "code",
      "source": [
        "num_list =  [[1, 2, 3, 4, 5], [1, 1, 1, 1, 1, 2], [1, 0, 1, 1, 1, 3, 5]]"
      ],
      "metadata": {
        "id": "1fZCNbQKN9xF"
      },
      "execution_count": 16,
      "outputs": []
    },
    {
      "cell_type": "code",
      "source": [
        "for a in num_list:\n",
        "    a.reverse()\n",
        "print(num_list)"
      ],
      "metadata": {
        "colab": {
          "base_uri": "https://localhost:8080/"
        },
        "id": "S5vxMK0SPTAa",
        "outputId": "5ad197f8-8181-410a-cba2-5e582cf7a62b"
      },
      "execution_count": 17,
      "outputs": [
        {
          "output_type": "stream",
          "name": "stdout",
          "text": [
            "[[5, 4, 3, 2, 1], [2, 1, 1, 1, 1, 1], [5, 3, 1, 1, 1, 0, 1]]\n"
          ]
        }
      ]
    },
    {
      "cell_type": "code",
      "source": [
        "# num_list.reverse"
      ],
      "metadata": {
        "id": "faS5JVn7PTnz"
      },
      "execution_count": 32,
      "outputs": []
    },
    {
      "cell_type": "code",
      "source": [
        "num_list"
      ],
      "metadata": {
        "colab": {
          "base_uri": "https://localhost:8080/"
        },
        "id": "SzZP-mOEPUUC",
        "outputId": "b2f0f3b0-76a3-4832-e7fb-9c5765eeba8b"
      },
      "execution_count": 19,
      "outputs": [
        {
          "output_type": "execute_result",
          "data": {
            "text/plain": [
              "[[5, 4, 3, 2, 1], [2, 1, 1, 1, 1, 1], [5, 3, 1, 1, 1, 0, 1]]"
            ]
          },
          "metadata": {},
          "execution_count": 19
        }
      ]
    },
    {
      "cell_type": "markdown",
      "source": [
        "-------------------------------------------------"
      ],
      "metadata": {
        "id": "L2JuVHfQPsxB"
      }
    },
    {
      "cell_type": "code",
      "source": [
        "# 값이 나오는게 아니라 자체를 변경 num_list.reverse()\n",
        "def solution (num_list):\n",
        "    num_list.reverse()\n",
        "    return num_list\n",
        "    "
      ],
      "metadata": {
        "id": "5E4nnOj_PVHk"
      },
      "execution_count": 20,
      "outputs": []
    },
    {
      "cell_type": "code",
      "source": [
        "num_list1 =  [[1, 2, 3, 4, 5], [1, 1, 1, 1, 1, 2], [1, 0, 1, 1, 1, 3, 5]]"
      ],
      "metadata": {
        "id": "GPU6JgTNPV86"
      },
      "execution_count": 21,
      "outputs": []
    },
    {
      "cell_type": "code",
      "source": [
        "\n",
        "def solution (num_list1):\n",
        "    for a in num_list1:\n",
        "        a.reverse()\n",
        "        return num_list1"
      ],
      "metadata": {
        "id": "QBkyFljGPW6Z"
      },
      "execution_count": 22,
      "outputs": []
    },
    {
      "cell_type": "code",
      "source": [
        "solution(num_list1)"
      ],
      "metadata": {
        "colab": {
          "base_uri": "https://localhost:8080/"
        },
        "id": "yuGSEyA9PXkh",
        "outputId": "0c5cca17-983a-4a8a-98e5-91c6c2de3a28"
      },
      "execution_count": 23,
      "outputs": [
        {
          "output_type": "execute_result",
          "data": {
            "text/plain": [
              "[[5, 4, 3, 2, 1], [1, 1, 1, 1, 1, 2], [1, 0, 1, 1, 1, 3, 5]]"
            ]
          },
          "metadata": {},
          "execution_count": 23
        }
      ]
    },
    {
      "cell_type": "code",
      "source": [
        "num =  [[1, 2, 3, 4, 5], [1, 1, 1, 1, 1, 2], [1, 0, 1, 1, 1, 3, 5]]\n"
      ],
      "metadata": {
        "id": "SryRgMBRPYo3"
      },
      "execution_count": 24,
      "outputs": []
    },
    {
      "cell_type": "markdown",
      "source": [
        "----------------------"
      ],
      "metadata": {
        "id": "O3PVCo2fPxca"
      }
    },
    {
      "cell_type": "code",
      "source": [
        "# return 값을 한 줄에 작성\n",
        "def solution (num):\n",
        "    return [list(reversed(a)) for a in num]"
      ],
      "metadata": {
        "id": "VKl1fib0PahT"
      },
      "execution_count": 25,
      "outputs": []
    },
    {
      "cell_type": "code",
      "source": [
        "solution(num)"
      ],
      "metadata": {
        "colab": {
          "base_uri": "https://localhost:8080/"
        },
        "id": "gShQB9stPa0_",
        "outputId": "aba79399-b775-4208-e5d0-3175aad45b0b"
      },
      "execution_count": 26,
      "outputs": [
        {
          "output_type": "execute_result",
          "data": {
            "text/plain": [
              "[[5, 4, 3, 2, 1], [2, 1, 1, 1, 1, 1], [5, 3, 1, 1, 1, 0, 1]]"
            ]
          },
          "metadata": {},
          "execution_count": 26
        }
      ]
    },
    {
      "cell_type": "markdown",
      "source": [
        "-------------"
      ],
      "metadata": {
        "id": "D0wgEAqVPzqJ"
      }
    },
    {
      "cell_type": "code",
      "source": [
        "# 인덱스 값, 리스트 안의 a 값\n",
        "# for in 문 안에서 인덱스와 리스트 나눠주고 num의 인덱스를 정의하고 리스트의 a 값을 reverse 해줌\n",
        "for i, a in enumerate(num):\n",
        "    num[i] = list(reversed(a))\n",
        "print(num)"
      ],
      "metadata": {
        "colab": {
          "base_uri": "https://localhost:8080/"
        },
        "id": "ZaHyBcbmPbrg",
        "outputId": "84f976ec-2563-46da-999d-f1883003fac6"
      },
      "execution_count": 27,
      "outputs": [
        {
          "output_type": "stream",
          "name": "stdout",
          "text": [
            "[[5, 4, 3, 2, 1], [2, 1, 1, 1, 1, 1], [5, 3, 1, 1, 1, 0, 1]]\n"
          ]
        }
      ]
    },
    {
      "cell_type": "code",
      "source": [
        "num =  [[1, 2, 3, 4, 5], [1, 1, 1, 1, 1, 2], [1, 0, 1, 1, 1, 3, 5]]"
      ],
      "metadata": {
        "id": "6YMoekG8PcUX"
      },
      "execution_count": 28,
      "outputs": []
    },
    {
      "cell_type": "code",
      "source": [
        "def solution(num):\n",
        "    return num[::-1]\n"
      ],
      "metadata": {
        "id": "Y0XaT_MhPdVg"
      },
      "execution_count": 29,
      "outputs": []
    },
    {
      "cell_type": "code",
      "source": [
        "solution(num)"
      ],
      "metadata": {
        "colab": {
          "base_uri": "https://localhost:8080/"
        },
        "id": "uy0RR22pPeBJ",
        "outputId": "563ca342-410f-484c-dbd9-015ef6a4209c"
      },
      "execution_count": 30,
      "outputs": [
        {
          "output_type": "execute_result",
          "data": {
            "text/plain": [
              "[[1, 0, 1, 1, 1, 3, 5], [1, 1, 1, 1, 1, 2], [1, 2, 3, 4, 5]]"
            ]
          },
          "metadata": {},
          "execution_count": 30
        }
      ]
    },
    {
      "cell_type": "code",
      "source": [],
      "metadata": {
        "id": "DBtKD-40Pe6U"
      },
      "execution_count": null,
      "outputs": []
    }
  ]
}